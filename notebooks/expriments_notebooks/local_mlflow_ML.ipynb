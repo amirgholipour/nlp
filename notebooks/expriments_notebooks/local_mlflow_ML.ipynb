{
 "cells": [
  {
   "cell_type": "markdown",
   "id": "ae905237-432f-4077-b905-7e9c4e14b80d",
   "metadata": {},
   "source": [
    "# Load Libraries"
   ]
  },
  {
   "cell_type": "code",
   "execution_count": 14,
   "id": "d32904f9-b67a-454e-b5ea-e710d0436d47",
   "metadata": {},
   "outputs": [
    {
     "name": "stdout",
     "output_type": "stream",
     "text": [
      "Requirement already satisfied: mlflow in /opt/app-root/lib/python3.8/site-packages (1.20.2)\n",
      "Requirement already satisfied: pandas in /opt/app-root/lib/python3.8/site-packages (from mlflow) (1.2.4)\n",
      "Requirement already satisfied: sqlparse>=0.3.1 in /opt/app-root/lib/python3.8/site-packages (from mlflow) (0.4.2)\n",
      "Requirement already satisfied: querystring-parser in /opt/app-root/lib/python3.8/site-packages (from mlflow) (1.2.4)\n",
      "Requirement already satisfied: databricks-cli>=0.8.7 in /opt/app-root/lib/python3.8/site-packages (from mlflow) (0.15.0)\n",
      "Requirement already satisfied: sqlalchemy in /opt/app-root/lib/python3.8/site-packages (from mlflow) (1.3.24)\n",
      "Requirement already satisfied: prometheus-flask-exporter in /opt/app-root/lib/python3.8/site-packages (from mlflow) (0.18.2)\n",
      "Requirement already satisfied: protobuf>=3.7.0 in /opt/app-root/lib/python3.8/site-packages (from mlflow) (3.17.3)\n",
      "Requirement already satisfied: cloudpickle in /opt/app-root/lib/python3.8/site-packages (from mlflow) (1.5.0)\n",
      "Requirement already satisfied: docker>=4.0.0 in /opt/app-root/lib/python3.8/site-packages (from mlflow) (5.0.2)\n",
      "Requirement already satisfied: importlib-metadata!=4.7.0,>=3.7.0 in /opt/app-root/lib/python3.8/site-packages (from mlflow) (4.5.0)\n",
      "Requirement already satisfied: packaging in /opt/app-root/lib/python3.8/site-packages (from mlflow) (20.9)\n",
      "Requirement already satisfied: alembic<=1.4.1 in /opt/app-root/lib/python3.8/site-packages (from mlflow) (1.4.1)\n",
      "Requirement already satisfied: pyyaml>=5.1 in /opt/app-root/lib/python3.8/site-packages (from mlflow) (5.3.1)\n",
      "Requirement already satisfied: requests>=2.17.3 in /opt/app-root/lib/python3.8/site-packages (from mlflow) (2.25.1)\n",
      "Requirement already satisfied: gunicorn in /opt/app-root/lib/python3.8/site-packages (from mlflow) (20.1.0)\n",
      "Requirement already satisfied: Flask in /opt/app-root/lib/python3.8/site-packages (from mlflow) (2.0.1)\n",
      "Requirement already satisfied: pytz in /opt/app-root/lib/python3.8/site-packages (from mlflow) (2021.1)\n",
      "Requirement already satisfied: numpy in /opt/app-root/lib/python3.8/site-packages (from mlflow) (1.20.3)\n",
      "Requirement already satisfied: gitpython>=2.1.0 in /opt/app-root/lib/python3.8/site-packages (from mlflow) (3.1.14)\n",
      "Requirement already satisfied: entrypoints in /opt/app-root/lib/python3.8/site-packages (from mlflow) (0.3)\n",
      "Requirement already satisfied: click>=7.0 in /opt/app-root/lib/python3.8/site-packages (from mlflow) (7.1.2)\n",
      "Requirement already satisfied: python-editor>=0.3 in /opt/app-root/lib/python3.8/site-packages (from alembic<=1.4.1->mlflow) (1.0.4)\n",
      "Requirement already satisfied: Mako in /opt/app-root/lib/python3.8/site-packages (from alembic<=1.4.1->mlflow) (1.1.4)\n",
      "Requirement already satisfied: python-dateutil in /opt/app-root/lib/python3.8/site-packages (from alembic<=1.4.1->mlflow) (2.8.1)\n",
      "Requirement already satisfied: tabulate>=0.7.7 in /opt/app-root/lib/python3.8/site-packages (from databricks-cli>=0.8.7->mlflow) (0.8.9)\n",
      "Requirement already satisfied: six>=1.10.0 in /opt/app-root/lib/python3.8/site-packages (from databricks-cli>=0.8.7->mlflow) (1.16.0)\n",
      "Requirement already satisfied: websocket-client>=0.32.0 in /opt/app-root/lib/python3.8/site-packages (from docker>=4.0.0->mlflow) (1.1.0)\n",
      "Requirement already satisfied: gitdb<5,>=4.0.1 in /opt/app-root/lib/python3.8/site-packages (from gitpython>=2.1.0->mlflow) (4.0.7)\n",
      "Requirement already satisfied: smmap<5,>=3.0.1 in /opt/app-root/lib/python3.8/site-packages (from gitdb<5,>=4.0.1->gitpython>=2.1.0->mlflow) (4.0.0)\n",
      "Requirement already satisfied: zipp>=0.5 in /opt/app-root/lib/python3.8/site-packages (from importlib-metadata!=4.7.0,>=3.7.0->mlflow) (3.4.1)\n",
      "Requirement already satisfied: chardet<5,>=3.0.2 in /opt/app-root/lib/python3.8/site-packages (from requests>=2.17.3->mlflow) (4.0.0)\n",
      "Requirement already satisfied: urllib3<1.27,>=1.21.1 in /opt/app-root/lib/python3.8/site-packages (from requests>=2.17.3->mlflow) (1.26.5)\n",
      "Requirement already satisfied: certifi>=2017.4.17 in /opt/app-root/lib/python3.8/site-packages (from requests>=2.17.3->mlflow) (2021.5.30)\n",
      "Requirement already satisfied: idna<3,>=2.5 in /opt/app-root/lib/python3.8/site-packages (from requests>=2.17.3->mlflow) (2.10)\n",
      "Requirement already satisfied: Jinja2>=3.0 in /opt/app-root/lib/python3.8/site-packages (from Flask->mlflow) (3.0.1)\n",
      "Requirement already satisfied: itsdangerous>=2.0 in /opt/app-root/lib/python3.8/site-packages (from Flask->mlflow) (2.0.1)\n",
      "Requirement already satisfied: Werkzeug>=2.0 in /opt/app-root/lib/python3.8/site-packages (from Flask->mlflow) (2.0.1)\n",
      "Requirement already satisfied: MarkupSafe>=2.0 in /opt/app-root/lib/python3.8/site-packages (from Jinja2>=3.0->Flask->mlflow) (2.0.1)\n",
      "Requirement already satisfied: setuptools>=3.0 in /opt/app-root/lib/python3.8/site-packages (from gunicorn->mlflow) (57.0.0)\n",
      "Requirement already satisfied: pyparsing>=2.0.2 in /opt/app-root/lib/python3.8/site-packages (from packaging->mlflow) (2.4.7)\n",
      "Requirement already satisfied: prometheus-client in /opt/app-root/lib/python3.8/site-packages (from prometheus-flask-exporter->mlflow) (0.11.0)\n",
      "\u001b[33mWARNING: You are using pip version 21.1.2; however, version 21.2.4 is available.\n",
      "You should consider upgrading via the '/opt/app-root/bin/python3.8 -m pip install --upgrade pip' command.\u001b[0m\n",
      "Note: you may need to restart the kernel to use updated packages.\n",
      "Collecting ipynbname\n",
      "  Downloading ipynbname-2021.3.2-py3-none-any.whl (4.0 kB)\n",
      "Requirement already satisfied: ipykernel in /opt/app-root/lib/python3.8/site-packages (from ipynbname) (5.5.5)\n",
      "Requirement already satisfied: traitlets>=4.1.0 in /opt/app-root/lib/python3.8/site-packages (from ipykernel->ipynbname) (5.0.5)\n",
      "Requirement already satisfied: ipython>=5.0.0 in /opt/app-root/lib/python3.8/site-packages (from ipykernel->ipynbname) (7.24.1)\n",
      "Requirement already satisfied: tornado>=4.2 in /opt/app-root/lib/python3.8/site-packages (from ipykernel->ipynbname) (6.1)\n",
      "Requirement already satisfied: jupyter-client in /opt/app-root/lib/python3.8/site-packages (from ipykernel->ipynbname) (6.1.12)\n",
      "Requirement already satisfied: pygments in /opt/app-root/lib/python3.8/site-packages (from ipython>=5.0.0->ipykernel->ipynbname) (2.9.0)\n",
      "Requirement already satisfied: pickleshare in /opt/app-root/lib/python3.8/site-packages (from ipython>=5.0.0->ipykernel->ipynbname) (0.7.5)\n",
      "Requirement already satisfied: prompt-toolkit!=3.0.0,!=3.0.1,<3.1.0,>=2.0.0 in /opt/app-root/lib/python3.8/site-packages (from ipython>=5.0.0->ipykernel->ipynbname) (3.0.18)\n",
      "Requirement already satisfied: pexpect>4.3 in /opt/app-root/lib/python3.8/site-packages (from ipython>=5.0.0->ipykernel->ipynbname) (4.8.0)\n",
      "Requirement already satisfied: setuptools>=18.5 in /opt/app-root/lib/python3.8/site-packages (from ipython>=5.0.0->ipykernel->ipynbname) (57.0.0)\n",
      "Requirement already satisfied: decorator in /opt/app-root/lib/python3.8/site-packages (from ipython>=5.0.0->ipykernel->ipynbname) (4.4.2)\n",
      "Requirement already satisfied: jedi>=0.16 in /opt/app-root/lib/python3.8/site-packages (from ipython>=5.0.0->ipykernel->ipynbname) (0.17.2)\n",
      "Requirement already satisfied: backcall in /opt/app-root/lib/python3.8/site-packages (from ipython>=5.0.0->ipykernel->ipynbname) (0.2.0)\n",
      "Requirement already satisfied: matplotlib-inline in /opt/app-root/lib/python3.8/site-packages (from ipython>=5.0.0->ipykernel->ipynbname) (0.1.2)\n",
      "Requirement already satisfied: parso<0.8.0,>=0.7.0 in /opt/app-root/lib/python3.8/site-packages (from jedi>=0.16->ipython>=5.0.0->ipykernel->ipynbname) (0.7.1)\n",
      "Requirement already satisfied: ptyprocess>=0.5 in /opt/app-root/lib/python3.8/site-packages (from pexpect>4.3->ipython>=5.0.0->ipykernel->ipynbname) (0.7.0)\n",
      "Requirement already satisfied: wcwidth in /opt/app-root/lib/python3.8/site-packages (from prompt-toolkit!=3.0.0,!=3.0.1,<3.1.0,>=2.0.0->ipython>=5.0.0->ipykernel->ipynbname) (0.2.5)\n",
      "Requirement already satisfied: ipython-genutils in /opt/app-root/lib/python3.8/site-packages (from traitlets>=4.1.0->ipykernel->ipynbname) (0.2.0)\n",
      "Requirement already satisfied: python-dateutil>=2.1 in /opt/app-root/lib/python3.8/site-packages (from jupyter-client->ipykernel->ipynbname) (2.8.1)\n",
      "Requirement already satisfied: jupyter-core>=4.6.0 in /opt/app-root/lib/python3.8/site-packages (from jupyter-client->ipykernel->ipynbname) (4.7.1)\n",
      "Requirement already satisfied: pyzmq>=13 in /opt/app-root/lib/python3.8/site-packages (from jupyter-client->ipykernel->ipynbname) (22.1.0)\n",
      "Requirement already satisfied: six>=1.5 in /opt/app-root/lib/python3.8/site-packages (from python-dateutil>=2.1->jupyter-client->ipykernel->ipynbname) (1.16.0)\n",
      "Installing collected packages: ipynbname\n",
      "Successfully installed ipynbname-2021.3.2\n",
      "\u001b[33mWARNING: You are using pip version 21.1.2; however, version 21.2.4 is available.\n",
      "You should consider upgrading via the '/opt/app-root/bin/python3.8 -m pip install --upgrade pip' command.\u001b[0m\n",
      "Note: you may need to restart the kernel to use updated packages.\n",
      "Requirement already satisfied: category_encoders in /opt/app-root/lib/python3.8/site-packages (2.2.2)\n",
      "Requirement already satisfied: statsmodels>=0.9.0 in /opt/app-root/lib/python3.8/site-packages (from category_encoders) (0.10.2)\n",
      "Requirement already satisfied: scikit-learn>=0.20.0 in /opt/app-root/lib/python3.8/site-packages (from category_encoders) (0.24.2)\n",
      "Requirement already satisfied: patsy>=0.5.1 in /opt/app-root/lib/python3.8/site-packages (from category_encoders) (0.5.1)\n",
      "Requirement already satisfied: numpy>=1.14.0 in /opt/app-root/lib/python3.8/site-packages (from category_encoders) (1.20.3)\n",
      "Requirement already satisfied: pandas>=0.21.1 in /opt/app-root/lib/python3.8/site-packages (from category_encoders) (1.2.4)\n",
      "Requirement already satisfied: scipy>=1.0.0 in /opt/app-root/lib/python3.8/site-packages (from category_encoders) (1.6.3)\n",
      "Requirement already satisfied: pytz>=2017.3 in /opt/app-root/lib/python3.8/site-packages (from pandas>=0.21.1->category_encoders) (2021.1)\n",
      "Requirement already satisfied: python-dateutil>=2.7.3 in /opt/app-root/lib/python3.8/site-packages (from pandas>=0.21.1->category_encoders) (2.8.1)\n",
      "Requirement already satisfied: six in /opt/app-root/lib/python3.8/site-packages (from patsy>=0.5.1->category_encoders) (1.16.0)\n",
      "Requirement already satisfied: joblib>=0.11 in /opt/app-root/lib/python3.8/site-packages (from scikit-learn>=0.20.0->category_encoders) (1.0.1)\n",
      "Requirement already satisfied: threadpoolctl>=2.0.0 in /opt/app-root/lib/python3.8/site-packages (from scikit-learn>=0.20.0->category_encoders) (2.1.0)\n",
      "\u001b[33mWARNING: You are using pip version 21.1.2; however, version 21.2.4 is available.\n",
      "You should consider upgrading via the '/opt/app-root/bin/python3.8 -m pip install --upgrade pip' command.\u001b[0m\n",
      "Note: you may need to restart the kernel to use updated packages.\n"
     ]
    }
   ],
   "source": [
    "%pip install mlflow\n",
    "%pip install ipynbname\n",
    "%pip install category_encoders"
   ]
  },
  {
   "cell_type": "code",
   "execution_count": 4,
   "id": "37859a96-83a9-4d4f-8444-941a947a80d3",
   "metadata": {},
   "outputs": [],
   "source": [
    "from pprint import pprint\n",
    "import numpy as np\n",
    "from sklearn.linear_model import LinearRegression\n",
    "import mlflow\n"
   ]
  },
  {
   "cell_type": "code",
   "execution_count": 5,
   "id": "126369f4-39d2-482e-864d-df7047292c9a",
   "metadata": {},
   "outputs": [],
   "source": [
    "\n",
    "def fetch_logged_data(run_id):\n",
    "    client = mlflow.tracking.MlflowClient()\n",
    "    data = client.get_run(run_id).data\n",
    "    tags = {k: v for k, v in data.tags.items() if not k.startswith(\"mlflow.\")}\n",
    "    artifacts = [f.path for f in client.list_artifacts(run_id, \"model\")]\n",
    "    return data.params, data.metrics, tags, artifacts\n",
    "\n",
    "# enable autologging\n",
    "mlflow.sklearn.autolog()\n"
   ]
  },
  {
   "cell_type": "markdown",
   "id": "66a66f65-c1eb-4da7-96b3-e2aa2b914004",
   "metadata": {},
   "source": [
    "# prepare training data"
   ]
  },
  {
   "cell_type": "code",
   "execution_count": 6,
   "id": "1b4e6e9e-322f-45ad-bf89-8a7b30224f24",
   "metadata": {},
   "outputs": [],
   "source": [
    "\n",
    "\n",
    "X = np.array([[1, 1], [1, 2], [2, 2], [2, 3]])\n",
    "y = np.dot(X, np.array([1, 2])) + 3\n"
   ]
  },
  {
   "cell_type": "markdown",
   "id": "64f14772-a5f3-46e0-8140-3c74f433aca5",
   "metadata": {},
   "source": [
    "# train a model"
   ]
  },
  {
   "cell_type": "code",
   "execution_count": 7,
   "id": "5ca8a744-fa99-4f6c-96db-a263fd2970b6",
   "metadata": {},
   "outputs": [],
   "source": [
    "\n",
    "\n",
    "model = LinearRegression()\n",
    "with mlflow.start_run() as run:\n",
    "    model.fit(X, y)\n"
   ]
  },
  {
   "cell_type": "markdown",
   "id": "371e8f9a-7aac-48ee-bb29-268bec14d91f",
   "metadata": {},
   "source": [
    "# fetch logged data"
   ]
  },
  {
   "cell_type": "code",
   "execution_count": 8,
   "id": "a9c3665c-1ce2-4be5-a236-e5c2c620dc80",
   "metadata": {},
   "outputs": [],
   "source": [
    "\n",
    "\n",
    "params, metrics, tags, artifacts = fetch_logged_data(run.info.run_id)\n"
   ]
  },
  {
   "cell_type": "code",
   "execution_count": 9,
   "id": "e46f8670-4e1d-44cc-a96f-e3cbb8461973",
   "metadata": {},
   "outputs": [
    {
     "name": "stdout",
     "output_type": "stream",
     "text": [
      "{'copy_X': 'True',\n",
      " 'fit_intercept': 'True',\n",
      " 'n_jobs': 'None',\n",
      " 'normalize': 'False',\n",
      " 'positive': 'False'}\n"
     ]
    }
   ],
   "source": [
    "\n",
    "pprint(params)\n",
    "\n",
    "\n"
   ]
  },
  {
   "cell_type": "code",
   "execution_count": 10,
   "id": "6503adb7-6cea-4aae-8311-5b2578ae595b",
   "metadata": {},
   "outputs": [
    {
     "name": "stdout",
     "output_type": "stream",
     "text": [
      "{'training_mae': 2.220446049250313e-16,\n",
      " 'training_mse': 1.9721522630525295e-31,\n",
      " 'training_r2_score': 1.0,\n",
      " 'training_rmse': 4.440892098500626e-16,\n",
      " 'training_score': 1.0}\n"
     ]
    }
   ],
   "source": [
    "pprint(metrics)\n",
    "\n"
   ]
  },
  {
   "cell_type": "code",
   "execution_count": 11,
   "id": "36c4f076-b9b3-4e53-91ad-f04afb12a48c",
   "metadata": {},
   "outputs": [
    {
     "name": "stdout",
     "output_type": "stream",
     "text": [
      "{'estimator_class': 'sklearn.linear_model._base.LinearRegression',\n",
      " 'estimator_name': 'LinearRegression'}\n"
     ]
    }
   ],
   "source": [
    "\n",
    "pprint(tags)\n",
    "\n",
    "\n"
   ]
  },
  {
   "cell_type": "code",
   "execution_count": 12,
   "id": "e9bc0fb6-8291-4c70-8f7e-193b4c9afe81",
   "metadata": {},
   "outputs": [
    {
     "name": "stdout",
     "output_type": "stream",
     "text": [
      "['model/MLmodel',\n",
      " 'model/conda.yaml',\n",
      " 'model/model.pkl',\n",
      " 'model/requirements.txt']\n"
     ]
    }
   ],
   "source": [
    "\n",
    "pprint(artifacts)"
   ]
  },
  {
   "cell_type": "code",
   "execution_count": null,
   "id": "7693680f-315d-4f71-9d6b-2621b5a5aee2",
   "metadata": {},
   "outputs": [],
   "source": []
  }
 ],
 "metadata": {
  "kernelspec": {
   "display_name": "Python 3",
   "language": "python",
   "name": "python3"
  },
  "language_info": {
   "codemirror_mode": {
    "name": "ipython",
    "version": 3
   },
   "file_extension": ".py",
   "mimetype": "text/x-python",
   "name": "python",
   "nbconvert_exporter": "python",
   "pygments_lexer": "ipython3",
   "version": "3.8.3"
  }
 },
 "nbformat": 4,
 "nbformat_minor": 5
}
