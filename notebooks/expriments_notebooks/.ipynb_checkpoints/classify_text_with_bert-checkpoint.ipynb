{
 "cells": [
  {
   "cell_type": "markdown",
   "metadata": {
    "id": "Cb4espuLKJiA"
   },
   "source": [
    "##### Copyright 2020 The TensorFlow Hub Authors.\n"
   ]
  },
  {
   "cell_type": "code",
   "execution_count": 2,
   "metadata": {
    "cellView": "form",
    "id": "jM3hCI1UUzar",
    "tags": []
   },
   "outputs": [],
   "source": [
    "#@title Licensed under the Apache License, Version 2.0 (the \"License\");\n",
    "# you may not use this file except in compliance with the License.\n",
    "# You may obtain a copy of the License at\n",
    "#\n",
    "# https://www.apache.org/licenses/LICENSE-2.0\n",
    "#\n",
    "# Unless required by applicable law or agreed to in writing, software\n",
    "# distributed under the License is distributed on an \"AS IS\" BASIS,\n",
    "# WITHOUT WARRANTIES OR CONDITIONS OF ANY KIND, either express or implied.\n",
    "# See the License for the specific language governing permissions and\n",
    "# limitations under the License."
   ]
  },
  {
   "cell_type": "markdown",
   "metadata": {
    "id": "IZ6SNYq_tVVC"
   },
   "source": [
    "# Classify text with BERT\n",
    "\n",
    "This tutorial contains complete code to fine-tune BERT to perform sentiment analysis on a dataset of plain-text IMDB movie reviews.\n",
    "In addition to training a model, you will learn how to preprocess text into an appropriate format.\n",
    "\n",
    "In this notebook, you will:\n",
    "\n",
    "- Load the IMDB dataset\n",
    "- Load a BERT model from TensorFlow Hub\n",
    "- Build your own model by combining BERT with a classifier\n",
    "- Train your own model, fine-tuning BERT as part of that\n",
    "- Save your model and use it to classify sentences\n",
    "\n",
    "If you're new to working with the IMDB dataset, please see [Basic text classification](https://www.tensorflow.org/tutorials/keras/text_classification) for more details."
   ]
  },
  {
   "cell_type": "markdown",
   "metadata": {
    "id": "2PHBpLPuQdmK"
   },
   "source": [
    "## About BERT\n",
    "\n",
    "[BERT](https://arxiv.org/abs/1810.04805) and other Transformer encoder architectures have been wildly successful on a variety of tasks in NLP (natural language processing). They compute vector-space representations of natural language that are suitable for use in deep learning models. The BERT family of models uses the Transformer encoder architecture to process each token of input text in the full context of all tokens before and after, hence the name: Bidirectional Encoder Representations from Transformers. \n",
    "\n",
    "BERT models are usually pre-trained on a large corpus of text, then fine-tuned for specific tasks.\n"
   ]
  },
  {
   "cell_type": "markdown",
   "metadata": {
    "id": "SCjmX4zTCkRK"
   },
   "source": [
    "## Setup\n"
   ]
  },
  {
   "cell_type": "code",
   "execution_count": 3,
   "metadata": {
    "id": "q-YbjCkzw0yU",
    "tags": []
   },
   "outputs": [
    {
     "name": "stdout",
     "output_type": "stream",
     "text": [
      "\u001b[33mWARNING: You are using pip version 21.2.4; however, version 21.3 is available.\n",
      "You should consider upgrading via the '/opt/app-root/bin/python3.8 -m pip install --upgrade pip' command.\u001b[0m\n"
     ]
    }
   ],
   "source": [
    "# A dependency of the preprocessing for BERT inputs\n",
    "!pip install -q -U tensorflow-text"
   ]
  },
  {
   "cell_type": "code",
   "execution_count": 4,
   "metadata": {},
   "outputs": [
    {
     "name": "stdout",
     "output_type": "stream",
     "text": [
      "Requirement already satisfied: mlflow in /opt/app-root/lib/python3.8/site-packages (1.20.2)\n",
      "Requirement already satisfied: gunicorn in /opt/app-root/lib/python3.8/site-packages (from mlflow) (20.1.0)\n",
      "Requirement already satisfied: numpy in /opt/app-root/lib/python3.8/site-packages (from mlflow) (1.19.5)\n",
      "Requirement already satisfied: pytz in /opt/app-root/lib/python3.8/site-packages (from mlflow) (2021.1)\n",
      "Requirement already satisfied: Flask in /opt/app-root/lib/python3.8/site-packages (from mlflow) (2.0.2)\n",
      "Requirement already satisfied: prometheus-flask-exporter in /opt/app-root/lib/python3.8/site-packages (from mlflow) (0.18.3)\n",
      "Requirement already satisfied: packaging in /opt/app-root/lib/python3.8/site-packages (from mlflow) (20.9)\n",
      "Requirement already satisfied: querystring-parser in /opt/app-root/lib/python3.8/site-packages (from mlflow) (1.2.4)\n",
      "Requirement already satisfied: entrypoints in /opt/app-root/lib/python3.8/site-packages (from mlflow) (0.3)\n",
      "Requirement already satisfied: pandas in /opt/app-root/lib/python3.8/site-packages (from mlflow) (1.3.3)\n",
      "Requirement already satisfied: cloudpickle in /opt/app-root/lib/python3.8/site-packages (from mlflow) (1.6.0)\n",
      "Requirement already satisfied: sqlalchemy in /opt/app-root/lib/python3.8/site-packages (from mlflow) (1.4.23)\n",
      "Requirement already satisfied: click>=7.0 in /opt/app-root/lib/python3.8/site-packages (from mlflow) (7.1.2)\n",
      "Requirement already satisfied: docker>=4.0.0 in /opt/app-root/lib/python3.8/site-packages (from mlflow) (5.0.3)\n",
      "Requirement already satisfied: requests>=2.17.3 in /opt/app-root/lib/python3.8/site-packages (from mlflow) (2.25.1)\n",
      "Requirement already satisfied: importlib-metadata!=4.7.0,>=3.7.0 in /opt/app-root/lib/python3.8/site-packages (from mlflow) (4.0.1)\n",
      "Requirement already satisfied: sqlparse>=0.3.1 in /opt/app-root/lib/python3.8/site-packages (from mlflow) (0.4.2)\n",
      "Requirement already satisfied: protobuf>=3.7.0 in /opt/app-root/lib/python3.8/site-packages (from mlflow) (3.15.8)\n",
      "Requirement already satisfied: databricks-cli>=0.8.7 in /opt/app-root/lib/python3.8/site-packages (from mlflow) (0.15.0)\n",
      "Requirement already satisfied: pyyaml>=5.1 in /opt/app-root/lib/python3.8/site-packages (from mlflow) (5.4.1)\n",
      "Requirement already satisfied: gitpython>=2.1.0 in /opt/app-root/lib/python3.8/site-packages (from mlflow) (3.1.14)\n",
      "Requirement already satisfied: alembic<=1.4.1 in /opt/app-root/lib/python3.8/site-packages (from mlflow) (1.4.1)\n",
      "Requirement already satisfied: Mako in /opt/app-root/lib/python3.8/site-packages (from alembic<=1.4.1->mlflow) (1.1.5)\n",
      "Requirement already satisfied: python-editor>=0.3 in /opt/app-root/lib/python3.8/site-packages (from alembic<=1.4.1->mlflow) (1.0.4)\n",
      "Requirement already satisfied: python-dateutil in /opt/app-root/lib/python3.8/site-packages (from alembic<=1.4.1->mlflow) (2.8.1)\n",
      "Requirement already satisfied: tabulate>=0.7.7 in /opt/app-root/lib/python3.8/site-packages (from databricks-cli>=0.8.7->mlflow) (0.8.9)\n",
      "Requirement already satisfied: six>=1.10.0 in /opt/app-root/lib/python3.8/site-packages (from databricks-cli>=0.8.7->mlflow) (1.15.0)\n",
      "Requirement already satisfied: websocket-client>=0.32.0 in /opt/app-root/lib/python3.8/site-packages (from docker>=4.0.0->mlflow) (0.58.0)\n",
      "Requirement already satisfied: gitdb<5,>=4.0.1 in /opt/app-root/lib/python3.8/site-packages (from gitpython>=2.1.0->mlflow) (4.0.7)\n",
      "Requirement already satisfied: smmap<5,>=3.0.1 in /opt/app-root/lib/python3.8/site-packages (from gitdb<5,>=4.0.1->gitpython>=2.1.0->mlflow) (4.0.0)\n",
      "Requirement already satisfied: zipp>=0.5 in /opt/app-root/lib/python3.8/site-packages (from importlib-metadata!=4.7.0,>=3.7.0->mlflow) (3.4.1)\n",
      "Requirement already satisfied: certifi>=2017.4.17 in /opt/app-root/lib/python3.8/site-packages (from requests>=2.17.3->mlflow) (2020.12.5)\n",
      "Requirement already satisfied: idna<3,>=2.5 in /opt/app-root/lib/python3.8/site-packages (from requests>=2.17.3->mlflow) (2.10)\n",
      "Requirement already satisfied: urllib3<1.27,>=1.21.1 in /opt/app-root/lib/python3.8/site-packages (from requests>=2.17.3->mlflow) (1.26.4)\n",
      "Requirement already satisfied: chardet<5,>=3.0.2 in /opt/app-root/lib/python3.8/site-packages (from requests>=2.17.3->mlflow) (4.0.0)\n",
      "Requirement already satisfied: greenlet!=0.4.17 in /opt/app-root/lib/python3.8/site-packages (from sqlalchemy->mlflow) (1.1.1)\n",
      "Requirement already satisfied: Werkzeug>=2.0 in /opt/app-root/lib/python3.8/site-packages (from Flask->mlflow) (2.0.2)\n",
      "Requirement already satisfied: itsdangerous>=2.0 in /opt/app-root/lib/python3.8/site-packages (from Flask->mlflow) (2.0.1)\n",
      "Requirement already satisfied: Jinja2>=3.0 in /opt/app-root/lib/python3.8/site-packages (from Flask->mlflow) (3.0.2)\n",
      "Requirement already satisfied: MarkupSafe>=2.0 in /opt/app-root/lib/python3.8/site-packages (from Jinja2>=3.0->Flask->mlflow) (2.0.1)\n",
      "Requirement already satisfied: setuptools>=3.0 in /opt/app-root/lib/python3.8/site-packages (from gunicorn->mlflow) (57.4.0)\n",
      "Requirement already satisfied: pyparsing>=2.0.2 in /opt/app-root/lib/python3.8/site-packages (from packaging->mlflow) (2.4.7)\n",
      "Requirement already satisfied: prometheus-client in /opt/app-root/lib/python3.8/site-packages (from prometheus-flask-exporter->mlflow) (0.10.1)\n",
      "\u001b[33mWARNING: You are using pip version 21.2.4; however, version 21.3 is available.\n",
      "You should consider upgrading via the '/opt/app-root/bin/python3.8 -m pip install --upgrade pip' command.\u001b[0m\n"
     ]
    }
   ],
   "source": [
    "!pip install mlflow"
   ]
  },
  {
   "cell_type": "markdown",
   "metadata": {
    "id": "5w_XlxN1IsRJ"
   },
   "source": [
    "You will use the AdamW optimizer from [tensorflow/models](https://github.com/tensorflow/models)."
   ]
  },
  {
   "cell_type": "code",
   "execution_count": 30,
   "metadata": {
    "id": "b-P1ZOA0FkVJ",
    "tags": []
   },
   "outputs": [
    {
     "name": "stdout",
     "output_type": "stream",
     "text": [
      "\u001b[33mWARNING: You are using pip version 21.2.4; however, version 21.3 is available.\n",
      "You should consider upgrading via the '/opt/app-root/bin/python3.8 -m pip install --upgrade pip' command.\u001b[0m\n"
     ]
    }
   ],
   "source": [
    "!pip install -q tf-models-official boto3"
   ]
  },
  {
   "cell_type": "code",
   "execution_count": 6,
   "metadata": {
    "id": "_XgTpm9ZxoN9",
    "tags": []
   },
   "outputs": [],
   "source": [
    "import os\n",
    "import shutil\n",
    "\n",
    "import tensorflow as tf\n",
    "import tensorflow_hub as hub\n",
    "import tensorflow_text as text\n",
    "from official.nlp import optimization  # to create AdamW optimizer\n",
    "\n",
    "import matplotlib.pyplot as plt\n",
    "from minio import Minio\n",
    "import pandas as pd\n",
    "from sklearn.model_selection import train_test_split\n",
    "from tensorflow import keras\n",
    "from tensorflow.keras import layers\n",
    "from sklearn import  preprocessing\n",
    "import numpy as np\n",
    "from tensorflow.keras.utils import to_categorical\n",
    "import matplotlib.pyplot as plt\n",
    "from datetime import datetime\n",
    "import mlflow\n",
    "\n",
    "import subprocess\n",
    "import ipynbname\n",
    "\n",
    "tf.get_logger().setLevel('ERROR')"
   ]
  },
  {
   "cell_type": "code",
   "execution_count": null,
   "metadata": {},
   "outputs": [],
   "source": []
  },
  {
   "cell_type": "code",
   "execution_count": 7,
   "metadata": {},
   "outputs": [],
   "source": [
    "HOST = \"http://mlflow:5500\"\n",
    "\n",
    "PROJECT_NAME = \"NLPTextClassification\"\n",
    "EXPERIMENT_NAME = \"DeepLearning\"\n",
    "\n",
    "os.environ['MLFLOW_S3_ENDPOINT_URL']='http://minio-ml-workshop:9000'\n",
    "os.environ['AWS_ACCESS_KEY_ID']='minio'\n",
    "os.environ['AWS_SECRET_ACCESS_KEY']='minio123'\n",
    "os.environ['AWS_REGION']='us-east-1'\n",
    "os.environ['AWS_BUCKET_NAME']='tensorflow-text-classification'\n",
    "# os.environ['AWS_BUCKET_NAME']='raw-data-saeed'\n",
    "\n",
    "def get_s3_server():\n",
    "    minioClient = Minio('minio-ml-workshop:9000',\n",
    "                    access_key='minio',\n",
    "                    secret_key='minio123',\n",
    "                    secure=False)\n",
    "\n",
    "    return minioClient\n",
    "client = get_s3_server()"
   ]
  },
  {
   "cell_type": "code",
   "execution_count": 8,
   "metadata": {},
   "outputs": [],
   "source": [
    "# classifier_model.save(f\"s3://{datasets_bucket}/CC_sentiment_analysis\", include_optimizer=False)\n"
   ]
  },
  {
   "cell_type": "markdown",
   "metadata": {},
   "source": [
    "# Load mlflow to track the model"
   ]
  },
  {
   "cell_type": "code",
   "execution_count": 9,
   "metadata": {},
   "outputs": [],
   "source": [
    "# from verta.utils import ModelAPI\n",
    "\n",
    "# Connect to local MLflow tracking server\n",
    "mlflow.set_tracking_uri(HOST)\n",
    "\n",
    "# Set the experiment name...\n",
    "mlflow.set_experiment(EXPERIMENT_NAME)\n",
    "\n",
    "mlflow.tensorflow.autolog(silent=True)"
   ]
  },
  {
   "cell_type": "code",
   "execution_count": 10,
   "metadata": {},
   "outputs": [],
   "source": [
    "\n",
    "def get_git_revision_hash():\n",
    "    return subprocess.check_output(['git', 'rev-parse', 'HEAD'])\n",
    "\n",
    "def get_git_revision_short_hash():\n",
    "    return subprocess.check_output(['git', 'rev-parse', '--short', 'HEAD'])\n",
    "\n",
    "def get_git_remote():\n",
    "    return subprocess.check_output(['git', 'config', '--get', 'remote.origin.url'])\n",
    "\n",
    "def get_git_user():\n",
    "    return subprocess.check_output(['git', 'config', 'user.name'])\n",
    "\n",
    "def get_git_branch():\n",
    "    return subprocess.check_output(['git', 'branch', '--show-current'])\n",
    "\n",
    "def get_pip_freeze():\n",
    "    return subprocess.check_output(['pip', 'freeze']).splitlines()\n",
    "\n",
    "\n",
    "def record_details(mlflow):\n",
    "    \"\"\"\n",
    "    This method is the anchor poijt and more activiteis will go in it\n",
    "    :param mlflow:\n",
    "    :return:\n",
    "    \"\"\"\n",
    "    with open(\"pip_freeze.txt\", \"wb\") as file:\n",
    "        for line in get_pip_freeze():\n",
    "            file.write(line)\n",
    "            file.write(bytes(\"\\n\", \"UTF-8\"))\n",
    "    mlflow.log_artifact(\"pip_freeze.txt\")\n",
    "    \n",
    "\n",
    "    file.close()\n",
    "    os.remove(\"pip_freeze.txt\")\n",
    "    # save the encoders if there is any\n",
    "\n",
    "\n",
    "\n",
    "def mlflow_grid_search(methodtoexecute, methodarguments):\n",
    "    with mlflow.start_run(tags= {\n",
    "        \"mlflow.source.git.commit\" : get_git_revision_hash() ,\n",
    "        \"mlflow.user\": get_git_user(),\n",
    "        \"mlflow.source.git.repoURL\": get_git_remote(),\n",
    "        \"git_remote\": get_git_remote(),\n",
    "        \"mlflow.source.git.branch\": get_git_branch(),\n",
    "        \"mlflow.docker.image.name\": os.getenv(\"JUPYTER_IMAGE\", \"LOCAL\"),\n",
    "        \"mlflow.source.type\": \"NOTEBOOK\",\n",
    "#         \"mlflow.source.name\": ipynbname.name()\n",
    "    }) as run:\n",
    "        methodtoexecute(**methodarguments)\n",
    "        record_details(mlflow)\n",
    "\n",
    "    return run"
   ]
  },
  {
   "cell_type": "code",
   "execution_count": 11,
   "metadata": {},
   "outputs": [],
   "source": [
    "def fetch_logged_data(run_id):\n",
    "    client = mlflow.tracking.MlflowClient()\n",
    "    data = client.get_run(run_id).data\n",
    "    tags = {k: v for k, v in data.tags.items() if not k.startswith(\"mlflow.\")}\n",
    "    artifacts = [f.path for f in client.list_artifacts(run_id, \"model\")]\n",
    "    return data.params, data.metrics, tags, artifacts"
   ]
  },
  {
   "cell_type": "markdown",
   "metadata": {
    "id": "Vnvd4mrtPHHV"
   },
   "source": [
    "### Download the IMDB dataset\n",
    "\n",
    "Let's download and extract the dataset, then explore the directory structure.\n"
   ]
  },
  {
   "cell_type": "code",
   "execution_count": 12,
   "metadata": {
    "id": "pOdqCMoQDRJL",
    "tags": []
   },
   "outputs": [
    {
     "name": "stdout",
     "output_type": "stream",
     "text": [
      "Shape of data tensor: (1400,)\n",
      "Shape of label tensor: (1400, 11)\n",
      "Shape of label tensor: (600, 11)\n"
     ]
    }
   ],
   "source": [
    "\n",
    "csv_file = client.get_object(\"raw-data-saeed\", \"light_cc_data.csv\")\n",
    "df1 = pd.read_csv(csv_file)\n",
    "\n",
    "\n",
    "train_ds, test_ds, train_y, test_y = train_test_split(df1['consumer_complaint_narrative'], df1['product'],stratify=df1['product'], \n",
    "                                                    test_size=0.30)\n",
    "\n",
    "\n",
    "##label encoding target variable\n",
    "enc = preprocessing.LabelEncoder()\n",
    "train_labels = enc.fit_transform(train_y)\n",
    "test_labels = enc.fit_transform(test_y)\n",
    "\n",
    "labels_train = to_categorical(np.asarray(train_labels))\n",
    "labels_test = to_categorical(np.asarray(test_labels))\n",
    "print('Shape of data tensor:', train_ds.shape)\n",
    "print('Shape of label tensor:', labels_train.shape)\n",
    "print('Shape of label tensor:', labels_test.shape)"
   ]
  },
  {
   "cell_type": "markdown",
   "metadata": {
    "id": "lN9lWCYfPo7b"
   },
   "source": [
    "Next, you will use the `text_dataset_from_directory` utility to create a labeled `tf.data.Dataset`.\n",
    "\n",
    "The IMDB dataset has already been divided into train and test, but it lacks a validation set. Let's create a validation set using an 80:20 split of the training data by using the `validation_split` argument below.\n",
    "\n",
    "Note:  When using the `validation_split` and `subset` arguments, make sure to either specify a random seed, or to pass `shuffle=False`, so that the validation and training splits have no overlap."
   ]
  },
  {
   "cell_type": "markdown",
   "metadata": {
    "id": "HGm10A5HRGXp"
   },
   "source": [
    "Let's take a look at a few reviews."
   ]
  },
  {
   "cell_type": "markdown",
   "metadata": {
    "id": "dX8FtlpGJRE6"
   },
   "source": [
    "## Loading models from TensorFlow Hub\n",
    "\n",
    "Here you can choose which BERT model you will load from TensorFlow Hub and fine-tune. There are multiple BERT models available.\n",
    "\n",
    "  - [BERT-Base](https://tfhub.dev/tensorflow/bert_en_uncased_L-12_H-768_A-12/3), [Uncased](https://tfhub.dev/tensorflow/bert_en_uncased_L-12_H-768_A-12/3) and [seven more models](https://tfhub.dev/google/collections/bert/1) with trained weights released by the original BERT authors.\n",
    "  - [Small BERTs](https://tfhub.dev/google/collections/bert/1) have the same general architecture but fewer and/or smaller Transformer blocks, which lets you explore tradeoffs between speed, size and quality.\n",
    "  - [ALBERT](https://tfhub.dev/google/collections/albert/1): four different sizes of \"A Lite BERT\" that reduces model size (but not computation time) by sharing parameters between layers.\n",
    "  - [BERT Experts](https://tfhub.dev/google/collections/experts/bert/1): eight models that all have the BERT-base architecture but offer a choice between different pre-training domains, to align more closely with the target task.\n",
    "  - [Electra](https://tfhub.dev/google/collections/electra/1) has the same architecture as BERT (in three different sizes), but gets pre-trained as a discriminator in a set-up that resembles a Generative Adversarial Network (GAN).\n",
    "  - BERT with Talking-Heads Attention and Gated GELU [[base](https://tfhub.dev/tensorflow/talkheads_ggelu_bert_en_base/1), [large](https://tfhub.dev/tensorflow/talkheads_ggelu_bert_en_large/1)] has two improvements to the core of the Transformer architecture.\n",
    "\n",
    "The model documentation on TensorFlow Hub has more details and references to the\n",
    "research literature. Follow the links above, or click on the [`tfhub.dev`](http://tfhub.dev) URL\n",
    "printed after the next cell execution.\n",
    "\n",
    "The suggestion is to start with a Small BERT (with fewer parameters) since they are faster to fine-tune. If you like a small model but with higher accuracy, ALBERT might be your next option. If you want even better accuracy, choose\n",
    "one of the classic BERT sizes or their recent refinements like Electra, Talking Heads, or a BERT Expert.\n",
    "\n",
    "Aside from the models available below, there are [multiple versions](https://tfhub.dev/google/collections/transformer_encoders_text/1) of the models that are larger and can yield even better accuracy, but they are too big to be fine-tuned on a single GPU. You will be able to do that on the [Solve GLUE tasks using BERT on a TPU colab](https://www.tensorflow.org/text/tutorials/bert_glue).\n",
    "\n",
    "You'll see in the code below that switching the tfhub.dev URL is enough to try any of these models, because all the differences between them are encapsulated in the SavedModels from TF Hub."
   ]
  },
  {
   "cell_type": "code",
   "execution_count": 13,
   "metadata": {
    "cellView": "form",
    "id": "y8_ctG55-uTX",
    "tags": []
   },
   "outputs": [
    {
     "name": "stdout",
     "output_type": "stream",
     "text": [
      "BERT model selected           : https://tfhub.dev/tensorflow/small_bert/bert_en_uncased_L-2_H-128_A-2/1\n",
      "Preprocess model auto-selected: https://tfhub.dev/tensorflow/bert_en_uncased_preprocess/3\n"
     ]
    }
   ],
   "source": [
    "#@title Choose a BERT model to fine-tune\n",
    "\n",
    "bert_model_name = 'small_bert/bert_en_uncased_L-2_H-128_A-2'  #@param [\"bert_en_uncased_L-12_H-768_A-12\",\n",
    "#\"bert_en_cased_L-12_H-768_A-12\", \"bert_multi_cased_L-12_H-768_A-12\", \"small_bert/bert_en_uncased_L-2_H-128_A-2\",\n",
    "#\"small_bert/bert_en_uncased_L-2_H-256_A-4\", \"small_bert/bert_en_uncased_L-2_H-512_A-8\", \n",
    "#\"small_bert/bert_en_uncased_L-2_H-768_A-12\", \"small_bert/bert_en_uncased_L-4_H-128_A-2\", \n",
    "#\"small_bert/bert_en_uncased_L-4_H-256_A-4\", \"small_bert/bert_en_uncased_L-4_H-512_A-8\", \n",
    "#\"small_bert/bert_en_uncased_L-4_H-768_A-12\", \"small_bert/bert_en_uncased_L-6_H-128_A-2\", \"small_bert/bert_en_uncased_L-6_H-256_A-4\", \n",
    "#\"small_bert/bert_en_uncased_L-6_H-512_A-8\", \"small_bert/bert_en_uncased_L-6_H-768_A-12\", \"small_bert/bert_en_uncased_L-8_H-128_A-2\", \n",
    "#\"small_bert/bert_en_uncased_L-8_H-256_A-4\", \"small_bert/bert_en_uncased_L-8_H-512_A-8\", \"small_bert/bert_en_uncased_L-8_H-768_A-12\",\n",
    "#\"small_bert/bert_en_uncased_L-10_H-128_A-2\", \"small_bert/bert_en_uncased_L-10_H-256_A-4\", \"small_bert/bert_en_uncased_L-10_H-512_A-8\",\n",
    "#\"small_bert/bert_en_uncased_L-10_H-768_A-12\", \"small_bert/bert_en_uncased_L-12_H-128_A-2\", \"small_bert/bert_en_uncased_L-12_H-256_A-4\",\n",
    "#\"small_bert/bert_en_uncased_L-12_H-512_A-8\", \"small_bert/bert_en_uncased_L-12_H-768_A-12\", \"albert_en_base\", \"electra_small\",\n",
    "#\"electra_base\", \"experts_pubmed\", \"experts_wiki_books\", \"talking-heads_base\"\n",
    "#small_bert/bert_en_uncased_L-4_H-512_A-8]\n",
    "\n",
    "map_name_to_handle = {\n",
    "    'bert_en_uncased_L-12_H-768_A-12':\n",
    "        'https://tfhub.dev/tensorflow/bert_en_uncased_L-12_H-768_A-12/3',\n",
    "    'bert_en_cased_L-12_H-768_A-12':\n",
    "        'https://tfhub.dev/tensorflow/bert_en_cased_L-12_H-768_A-12/3',\n",
    "    'bert_multi_cased_L-12_H-768_A-12':\n",
    "        'https://tfhub.dev/tensorflow/bert_multi_cased_L-12_H-768_A-12/3',\n",
    "    'small_bert/bert_en_uncased_L-2_H-128_A-2':\n",
    "        'https://tfhub.dev/tensorflow/small_bert/bert_en_uncased_L-2_H-128_A-2/1',\n",
    "    'small_bert/bert_en_uncased_L-2_H-256_A-4':\n",
    "        'https://tfhub.dev/tensorflow/small_bert/bert_en_uncased_L-2_H-256_A-4/1',\n",
    "    'small_bert/bert_en_uncased_L-2_H-512_A-8':\n",
    "        'https://tfhub.dev/tensorflow/small_bert/bert_en_uncased_L-2_H-512_A-8/1',\n",
    "    'small_bert/bert_en_uncased_L-2_H-768_A-12':\n",
    "        'https://tfhub.dev/tensorflow/small_bert/bert_en_uncased_L-2_H-768_A-12/1',\n",
    "    'small_bert/bert_en_uncased_L-4_H-128_A-2':\n",
    "        'https://tfhub.dev/tensorflow/small_bert/bert_en_uncased_L-4_H-128_A-2/1',\n",
    "    'small_bert/bert_en_uncased_L-4_H-256_A-4':\n",
    "        'https://tfhub.dev/tensorflow/small_bert/bert_en_uncased_L-4_H-256_A-4/1',\n",
    "    'small_bert/bert_en_uncased_L-4_H-512_A-8':\n",
    "        'https://tfhub.dev/tensorflow/small_bert/bert_en_uncased_L-4_H-512_A-8/1',\n",
    "    'small_bert/bert_en_uncased_L-4_H-768_A-12':\n",
    "        'https://tfhub.dev/tensorflow/small_bert/bert_en_uncased_L-4_H-768_A-12/1',\n",
    "    'small_bert/bert_en_uncased_L-6_H-128_A-2':\n",
    "        'https://tfhub.dev/tensorflow/small_bert/bert_en_uncased_L-6_H-128_A-2/1',\n",
    "    'small_bert/bert_en_uncased_L-6_H-256_A-4':\n",
    "        'https://tfhub.dev/tensorflow/small_bert/bert_en_uncased_L-6_H-256_A-4/1',\n",
    "    'small_bert/bert_en_uncased_L-6_H-512_A-8':\n",
    "        'https://tfhub.dev/tensorflow/small_bert/bert_en_uncased_L-6_H-512_A-8/1',\n",
    "    'small_bert/bert_en_uncased_L-6_H-768_A-12':\n",
    "        'https://tfhub.dev/tensorflow/small_bert/bert_en_uncased_L-6_H-768_A-12/1',\n",
    "    'small_bert/bert_en_uncased_L-8_H-128_A-2':\n",
    "        'https://tfhub.dev/tensorflow/small_bert/bert_en_uncased_L-8_H-128_A-2/1',\n",
    "    'small_bert/bert_en_uncased_L-8_H-256_A-4':\n",
    "        'https://tfhub.dev/tensorflow/small_bert/bert_en_uncased_L-8_H-256_A-4/1',\n",
    "    'small_bert/bert_en_uncased_L-8_H-512_A-8':\n",
    "        'https://tfhub.dev/tensorflow/small_bert/bert_en_uncased_L-8_H-512_A-8/1',\n",
    "    'small_bert/bert_en_uncased_L-8_H-768_A-12':\n",
    "        'https://tfhub.dev/tensorflow/small_bert/bert_en_uncased_L-8_H-768_A-12/1',\n",
    "    'small_bert/bert_en_uncased_L-10_H-128_A-2':\n",
    "        'https://tfhub.dev/tensorflow/small_bert/bert_en_uncased_L-10_H-128_A-2/1',\n",
    "    'small_bert/bert_en_uncased_L-10_H-256_A-4':\n",
    "        'https://tfhub.dev/tensorflow/small_bert/bert_en_uncased_L-10_H-256_A-4/1',\n",
    "    'small_bert/bert_en_uncased_L-10_H-512_A-8':\n",
    "        'https://tfhub.dev/tensorflow/small_bert/bert_en_uncased_L-10_H-512_A-8/1',\n",
    "    'small_bert/bert_en_uncased_L-10_H-768_A-12':\n",
    "        'https://tfhub.dev/tensorflow/small_bert/bert_en_uncased_L-10_H-768_A-12/1',\n",
    "    'small_bert/bert_en_uncased_L-12_H-128_A-2':\n",
    "        'https://tfhub.dev/tensorflow/small_bert/bert_en_uncased_L-12_H-128_A-2/1',\n",
    "    'small_bert/bert_en_uncased_L-12_H-256_A-4':\n",
    "        'https://tfhub.dev/tensorflow/small_bert/bert_en_uncased_L-12_H-256_A-4/1',\n",
    "    'small_bert/bert_en_uncased_L-12_H-512_A-8':\n",
    "        'https://tfhub.dev/tensorflow/small_bert/bert_en_uncased_L-12_H-512_A-8/1',\n",
    "    'small_bert/bert_en_uncased_L-12_H-768_A-12':\n",
    "        'https://tfhub.dev/tensorflow/small_bert/bert_en_uncased_L-12_H-768_A-12/1',\n",
    "    'albert_en_base':\n",
    "        'https://tfhub.dev/tensorflow/albert_en_base/2',\n",
    "    'electra_small':\n",
    "        'https://tfhub.dev/google/electra_small/2',\n",
    "    'electra_base':\n",
    "        'https://tfhub.dev/google/electra_base/2',\n",
    "    'experts_pubmed':\n",
    "        'https://tfhub.dev/google/experts/bert/pubmed/2',\n",
    "    'experts_wiki_books':\n",
    "        'https://tfhub.dev/google/experts/bert/wiki_books/2',\n",
    "    'talking-heads_base':\n",
    "        'https://tfhub.dev/tensorflow/talkheads_ggelu_bert_en_base/1',\n",
    "}\n",
    "\n",
    "map_model_to_preprocess = {\n",
    "    'bert_en_uncased_L-12_H-768_A-12':\n",
    "        'https://tfhub.dev/tensorflow/bert_en_uncased_preprocess/3',\n",
    "    'bert_en_cased_L-12_H-768_A-12':\n",
    "        'https://tfhub.dev/tensorflow/bert_en_cased_preprocess/3',\n",
    "    'small_bert/bert_en_uncased_L-2_H-128_A-2':\n",
    "        'https://tfhub.dev/tensorflow/bert_en_uncased_preprocess/3',\n",
    "    'small_bert/bert_en_uncased_L-2_H-256_A-4':\n",
    "        'https://tfhub.dev/tensorflow/bert_en_uncased_preprocess/3',\n",
    "    'small_bert/bert_en_uncased_L-2_H-512_A-8':\n",
    "        'https://tfhub.dev/tensorflow/bert_en_uncased_preprocess/3',\n",
    "    'small_bert/bert_en_uncased_L-2_H-768_A-12':\n",
    "        'https://tfhub.dev/tensorflow/bert_en_uncased_preprocess/3',\n",
    "    'small_bert/bert_en_uncased_L-4_H-128_A-2':\n",
    "        'https://tfhub.dev/tensorflow/bert_en_uncased_preprocess/3',\n",
    "    'small_bert/bert_en_uncased_L-4_H-256_A-4':\n",
    "        'https://tfhub.dev/tensorflow/bert_en_uncased_preprocess/3',\n",
    "    'small_bert/bert_en_uncased_L-4_H-512_A-8':\n",
    "        'https://tfhub.dev/tensorflow/bert_en_uncased_preprocess/3',\n",
    "    'small_bert/bert_en_uncased_L-4_H-768_A-12':\n",
    "        'https://tfhub.dev/tensorflow/bert_en_uncased_preprocess/3',\n",
    "    'small_bert/bert_en_uncased_L-6_H-128_A-2':\n",
    "        'https://tfhub.dev/tensorflow/bert_en_uncased_preprocess/3',\n",
    "    'small_bert/bert_en_uncased_L-6_H-256_A-4':\n",
    "        'https://tfhub.dev/tensorflow/bert_en_uncased_preprocess/3',\n",
    "    'small_bert/bert_en_uncased_L-6_H-512_A-8':\n",
    "        'https://tfhub.dev/tensorflow/bert_en_uncased_preprocess/3',\n",
    "    'small_bert/bert_en_uncased_L-6_H-768_A-12':\n",
    "        'https://tfhub.dev/tensorflow/bert_en_uncased_preprocess/3',\n",
    "    'small_bert/bert_en_uncased_L-8_H-128_A-2':\n",
    "        'https://tfhub.dev/tensorflow/bert_en_uncased_preprocess/3',\n",
    "    'small_bert/bert_en_uncased_L-8_H-256_A-4':\n",
    "        'https://tfhub.dev/tensorflow/bert_en_uncased_preprocess/3',\n",
    "    'small_bert/bert_en_uncased_L-8_H-512_A-8':\n",
    "        'https://tfhub.dev/tensorflow/bert_en_uncased_preprocess/3',\n",
    "    'small_bert/bert_en_uncased_L-8_H-768_A-12':\n",
    "        'https://tfhub.dev/tensorflow/bert_en_uncased_preprocess/3',\n",
    "    'small_bert/bert_en_uncased_L-10_H-128_A-2':\n",
    "        'https://tfhub.dev/tensorflow/bert_en_uncased_preprocess/3',\n",
    "    'small_bert/bert_en_uncased_L-10_H-256_A-4':\n",
    "        'https://tfhub.dev/tensorflow/bert_en_uncased_preprocess/3',\n",
    "    'small_bert/bert_en_uncased_L-10_H-512_A-8':\n",
    "        'https://tfhub.dev/tensorflow/bert_en_uncased_preprocess/3',\n",
    "    'small_bert/bert_en_uncased_L-10_H-768_A-12':\n",
    "        'https://tfhub.dev/tensorflow/bert_en_uncased_preprocess/3',\n",
    "    'small_bert/bert_en_uncased_L-12_H-128_A-2':\n",
    "        'https://tfhub.dev/tensorflow/bert_en_uncased_preprocess/3',\n",
    "    'small_bert/bert_en_uncased_L-12_H-256_A-4':\n",
    "        'https://tfhub.dev/tensorflow/bert_en_uncased_preprocess/3',\n",
    "    'small_bert/bert_en_uncased_L-12_H-512_A-8':\n",
    "        'https://tfhub.dev/tensorflow/bert_en_uncased_preprocess/3',\n",
    "    'small_bert/bert_en_uncased_L-12_H-768_A-12':\n",
    "        'https://tfhub.dev/tensorflow/bert_en_uncased_preprocess/3',\n",
    "    'bert_multi_cased_L-12_H-768_A-12':\n",
    "        'https://tfhub.dev/tensorflow/bert_multi_cased_preprocess/3',\n",
    "    'albert_en_base':\n",
    "        'https://tfhub.dev/tensorflow/albert_en_preprocess/3',\n",
    "    'electra_small':\n",
    "        'https://tfhub.dev/tensorflow/bert_en_uncased_preprocess/3',\n",
    "    'electra_base':\n",
    "        'https://tfhub.dev/tensorflow/bert_en_uncased_preprocess/3',\n",
    "    'experts_pubmed':\n",
    "        'https://tfhub.dev/tensorflow/bert_en_uncased_preprocess/3',\n",
    "    'experts_wiki_books':\n",
    "        'https://tfhub.dev/tensorflow/bert_en_uncased_preprocess/3',\n",
    "    'talking-heads_base':\n",
    "        'https://tfhub.dev/tensorflow/bert_en_uncased_preprocess/3',\n",
    "}\n",
    "\n",
    "tfhub_handle_encoder = map_name_to_handle[bert_model_name]\n",
    "tfhub_handle_preprocess = map_model_to_preprocess[bert_model_name]\n",
    "\n",
    "print(f'BERT model selected           : {tfhub_handle_encoder}')\n",
    "print(f'Preprocess model auto-selected: {tfhub_handle_preprocess}')"
   ]
  },
  {
   "cell_type": "markdown",
   "metadata": {
    "id": "7WrcxxTRDdHi"
   },
   "source": [
    "## The preprocessing model\n",
    "\n",
    "Text inputs need to be transformed to numeric token ids and arranged in several Tensors before being input to BERT. TensorFlow Hub provides a matching preprocessing model for each of the BERT models discussed above, which implements this transformation using TF ops from the TF.text library. It is not necessary to run pure Python code outside your TensorFlow model to preprocess text.\n",
    "\n",
    "The preprocessing model must be the one referenced by the documentation of the BERT model, which you can read at the URL printed above. For BERT models from the drop-down above, the preprocessing model is selected automatically.\n",
    "\n",
    "Note: You will load the preprocessing model into a [hub.KerasLayer](https://www.tensorflow.org/hub/api_docs/python/hub/KerasLayer) to compose your fine-tuned model. This is the preferred API to load a TF2-style SavedModel from TF Hub into a Keras model."
   ]
  },
  {
   "cell_type": "code",
   "execution_count": 14,
   "metadata": {
    "id": "0SQi-jWd_jzq",
    "tags": []
   },
   "outputs": [],
   "source": [
    "bert_preprocess_model = hub.KerasLayer(tfhub_handle_preprocess)"
   ]
  },
  {
   "cell_type": "markdown",
   "metadata": {
    "id": "x4naBiEE_cZX"
   },
   "source": [
    "Let's try the preprocessing model on some text and see the output:"
   ]
  },
  {
   "cell_type": "code",
   "execution_count": 15,
   "metadata": {
    "id": "r9-zCzJpnuwS",
    "tags": []
   },
   "outputs": [
    {
     "name": "stdout",
     "output_type": "stream",
     "text": [
      "Keys       : ['input_mask', 'input_type_ids', 'input_word_ids']\n",
      "Shape      : (1, 128)\n",
      "Word Ids   : [ 101 2023 2003 2107 2019 6429 3185  999  102    0    0    0]\n",
      "Input Mask : [1 1 1 1 1 1 1 1 1 0 0 0]\n",
      "Type Ids   : [0 0 0 0 0 0 0 0 0 0 0 0]\n"
     ]
    }
   ],
   "source": [
    "text_test = ['this is such an amazing movie!']\n",
    "text_preprocessed = bert_preprocess_model(text_test)\n",
    "\n",
    "print(f'Keys       : {list(text_preprocessed.keys())}')\n",
    "print(f'Shape      : {text_preprocessed[\"input_word_ids\"].shape}')\n",
    "print(f'Word Ids   : {text_preprocessed[\"input_word_ids\"][0, :12]}')\n",
    "print(f'Input Mask : {text_preprocessed[\"input_mask\"][0, :12]}')\n",
    "print(f'Type Ids   : {text_preprocessed[\"input_type_ids\"][0, :12]}')"
   ]
  },
  {
   "cell_type": "markdown",
   "metadata": {
    "id": "EqL7ihkN_862"
   },
   "source": [
    "As you can see, now you have the 3 outputs from the preprocessing that a BERT model would use (`input_words_id`, `input_mask` and `input_type_ids`).\n",
    "\n",
    "Some other important points:\n",
    "- The input is truncated to 128 tokens. The number of tokens can be customized, and you can see more details on the [Solve GLUE tasks using BERT on a TPU colab](https://www.tensorflow.org/text/tutorials/bert_glue).\n",
    "- The `input_type_ids` only have one value (0) because this is a single sentence input. For a multiple sentence input, it would have one number for each input.\n",
    "\n",
    "Since this text preprocessor is a TensorFlow model, It can be included in your model directly."
   ]
  },
  {
   "cell_type": "markdown",
   "metadata": {
    "id": "DKnLPSEmtp9i"
   },
   "source": [
    "## Using the BERT model\n",
    "\n",
    "Before putting BERT into your own model, let's take a look at its outputs. You will load it from TF Hub and see the returned values."
   ]
  },
  {
   "cell_type": "code",
   "execution_count": 16,
   "metadata": {
    "id": "tXxYpK8ixL34",
    "tags": []
   },
   "outputs": [],
   "source": [
    "bert_model = hub.KerasLayer(tfhub_handle_encoder)"
   ]
  },
  {
   "cell_type": "code",
   "execution_count": 17,
   "metadata": {
    "id": "_OoF9mebuSZc",
    "tags": []
   },
   "outputs": [
    {
     "name": "stdout",
     "output_type": "stream",
     "text": [
      "Loaded BERT: https://tfhub.dev/tensorflow/small_bert/bert_en_uncased_L-2_H-128_A-2/1\n",
      "Pooled Outputs Shape:(1, 128)\n",
      "Pooled Outputs Values:[-0.9999945   0.1434197  -0.9989779   0.9951449  -0.99974567  0.9131291\n",
      " -0.9961582  -0.97097486  0.09740011  0.0190706  -0.84881747 -0.0938554 ]\n",
      "Sequence Outputs Shape:(1, 128, 128)\n",
      "Sequence Outputs Values:[[-0.43723714 -1.0138292  -2.3744743  ... -0.75897086 -2.091031\n",
      "  -0.2580994 ]\n",
      " [-1.3369713  -0.36880246  0.5786883  ... -2.1810167  -1.7530919\n",
      "  -0.09555051]\n",
      " [-1.0607047  -0.30371037  0.34461257 ... -1.2898585  -1.9519892\n",
      "  -0.12230362]\n",
      " ...\n",
      " [-0.8602277  -0.5440615   0.65837353 ... -1.4765682  -1.7518611\n",
      "   1.1197377 ]\n",
      " [-0.46869    -0.57152385  0.67256624 ... -1.7302344  -1.9740782\n",
      "   0.9747924 ]\n",
      " [ 0.02036591 -0.75511825  0.5948236  ... -1.9656788  -1.9051433\n",
      "   0.489703  ]]\n"
     ]
    }
   ],
   "source": [
    "bert_results = bert_model(text_preprocessed)\n",
    "\n",
    "print(f'Loaded BERT: {tfhub_handle_encoder}')\n",
    "print(f'Pooled Outputs Shape:{bert_results[\"pooled_output\"].shape}')\n",
    "print(f'Pooled Outputs Values:{bert_results[\"pooled_output\"][0, :12]}')\n",
    "print(f'Sequence Outputs Shape:{bert_results[\"sequence_output\"].shape}')\n",
    "print(f'Sequence Outputs Values:{bert_results[\"sequence_output\"][0, :12]}')"
   ]
  },
  {
   "cell_type": "markdown",
   "metadata": {
    "id": "sm61jDrezAll"
   },
   "source": [
    "The BERT models return a map with 3 important keys: `pooled_output`, `sequence_output`, `encoder_outputs`:\n",
    "\n",
    "- `pooled_output` represents each input sequence as a whole. The shape is `[batch_size, H]`. You can think of this as an embedding for the entire movie review.\n",
    "- `sequence_output` represents each input token in the context. The shape is `[batch_size, seq_length, H]`. You can think of this as a contextual embedding for every token in the movie review.\n",
    "- `encoder_outputs` are the intermediate activations of the `L` Transformer blocks. `outputs[\"encoder_outputs\"][i]` is a Tensor of shape `[batch_size, seq_length, 1024]` with the outputs of the i-th Transformer block, for `0 <= i < L`. The last value of the list is equal to `sequence_output`.\n",
    "\n",
    "For the fine-tuning you are going to use the `pooled_output` array."
   ]
  },
  {
   "cell_type": "markdown",
   "metadata": {
    "id": "pDNKfAXbDnJH"
   },
   "source": [
    "## Define your model\n",
    "\n",
    "You will create a very simple fine-tuned model, with the preprocessing model, the selected BERT model, one Dense and a Dropout layer.\n",
    "\n",
    "Note: for more information about the base model's input and output you can follow the model's URL for documentation. Here specifically, you don't need to worry about it because the preprocessing model will take care of that for you.\n"
   ]
  },
  {
   "cell_type": "code",
   "execution_count": 18,
   "metadata": {
    "id": "aksj743St9ga",
    "tags": []
   },
   "outputs": [],
   "source": [
    "def build_classifier_model():\n",
    "  text_input = tf.keras.layers.Input(shape=(), dtype=tf.string, name='text')\n",
    "  preprocessing_layer = hub.KerasLayer(tfhub_handle_preprocess, name='preprocessing')\n",
    "  encoder_inputs = preprocessing_layer(text_input)\n",
    "  encoder = hub.KerasLayer(tfhub_handle_encoder, trainable=True, name='BERT_encoder')\n",
    "  outputs = encoder(encoder_inputs)\n",
    "  net = outputs['pooled_output']\n",
    "  net = tf.keras.layers.Dropout(0.3)(net)\n",
    "  net = tf.keras.layers.Dense(768, activation='relu', name='dense_768')(net)\n",
    "  net = tf.keras.layers.Dropout(0.4)(net)\n",
    "\n",
    "  net = tf.keras.layers.Dense(11, activation='sigmoid', name='classifier')(net)\n",
    "  return tf.keras.Model(text_input, net)"
   ]
  },
  {
   "cell_type": "markdown",
   "metadata": {
    "id": "Zs4yhFraBuGQ"
   },
   "source": [
    "Let's check that the model runs with the output of the preprocessing model."
   ]
  },
  {
   "cell_type": "code",
   "execution_count": 19,
   "metadata": {
    "id": "mGMF8AZcB2Zy",
    "tags": []
   },
   "outputs": [
    {
     "name": "stdout",
     "output_type": "stream",
     "text": [
      "tf.Tensor(\n",
      "[[0.58940035 0.64041686 0.60943246 0.62367845 0.6559431  0.6256132\n",
      "  0.6098464  0.6451598  0.621862   0.65944517 0.5855018 ]], shape=(1, 11), dtype=float32)\n"
     ]
    }
   ],
   "source": [
    "classifier_model = build_classifier_model()\n",
    "bert_raw_result = classifier_model(tf.constant(text_test))\n",
    "print(tf.sigmoid(bert_raw_result))"
   ]
  },
  {
   "cell_type": "markdown",
   "metadata": {
    "id": "ZTUzNV2JE2G3"
   },
   "source": [
    "The output is meaningless, of course, because the model has not been trained yet.\n",
    "\n",
    "Let's take a look at the model's structure."
   ]
  },
  {
   "cell_type": "code",
   "execution_count": 20,
   "metadata": {
    "id": "0EmzyHZXKIpm",
    "tags": []
   },
   "outputs": [
    {
     "name": "stdout",
     "output_type": "stream",
     "text": [
      "Collecting pydot\n",
      "  Downloading pydot-1.4.2-py2.py3-none-any.whl (21 kB)\n",
      "Collecting graphviz\n",
      "  Downloading graphviz-0.17-py3-none-any.whl (18 kB)\n",
      "Requirement already satisfied: pyparsing>=2.1.4 in /opt/app-root/lib/python3.8/site-packages (from pydot) (2.4.7)\n",
      "Installing collected packages: pydot, graphviz\n",
      "Successfully installed graphviz-0.17 pydot-1.4.2\n",
      "\u001b[33mWARNING: You are using pip version 21.2.4; however, version 21.3 is available.\n",
      "You should consider upgrading via the '/opt/app-root/bin/python3.8 -m pip install --upgrade pip' command.\u001b[0m\n",
      "('You must install pydot (`pip install pydot`) and install graphviz (see instructions at https://graphviz.gitlab.io/download/) ', 'for plot_model/model_to_dot to work.')\n"
     ]
    }
   ],
   "source": [
    "!pip install pydot graphviz\n",
    "tf.keras.utils.plot_model(classifier_model)"
   ]
  },
  {
   "cell_type": "markdown",
   "metadata": {
    "id": "WbUWoZMwc302"
   },
   "source": [
    "## Model training\n",
    "\n",
    "You now have all the pieces to train a model, including the preprocessing module, BERT encoder, data, and classifier."
   ]
  },
  {
   "cell_type": "markdown",
   "metadata": {
    "id": "WpJ3xcwDT56v"
   },
   "source": [
    "### Loss function\n",
    "\n",
    "Since this is a binary classification problem and the model outputs a probability (a single-unit layer), you'll use `losses.BinaryCrossentropy` loss function.\n"
   ]
  },
  {
   "cell_type": "code",
   "execution_count": 21,
   "metadata": {
    "id": "OWPOZE-L3AgE",
    "tags": []
   },
   "outputs": [],
   "source": [
    "loss = tf.keras.losses.BinaryCrossentropy(from_logits=True)\n",
    "metrics = tf.metrics.BinaryAccuracy()\n",
    "\n",
    "\n",
    "# model.compile(\"adam\", \"categorical_crossentropy\", metrics=[\"accuracy\"])\n",
    "# history = model.fit(\n",
    "#     train_input, labels_train, batch_size=32, epochs=10, validation_data=(test_input, labels_test)\n",
    "# )"
   ]
  },
  {
   "cell_type": "markdown",
   "metadata": {
    "id": "77psrpfzbxtp"
   },
   "source": [
    "### Optimizer\n",
    "\n",
    "For fine-tuning, let's use the same optimizer that BERT was originally trained with: the \"Adaptive Moments\" (Adam). This optimizer minimizes the prediction loss and does regularization by weight decay (not using moments), which is also known as [AdamW](https://arxiv.org/abs/1711.05101).\n",
    "\n",
    "For the learning rate (`init_lr`), you will use the same schedule as BERT pre-training: linear decay of a notional initial learning rate, prefixed with a linear warm-up phase over the first 10% of training steps (`num_warmup_steps`). In line with the BERT paper, the initial learning rate is smaller for fine-tuning (best of 5e-5, 3e-5, 2e-5)."
   ]
  },
  {
   "cell_type": "code",
   "execution_count": 22,
   "metadata": {
    "id": "P9eP2y9dbw32",
    "tags": []
   },
   "outputs": [],
   "source": [
    "epochs = 5\n",
    "# steps_per_epoch = tf.data.experimental.cardinality(train_ds).numpy()\n",
    "# num_train_steps = steps_per_epoch * epochs\n",
    "# num_warmup_steps = int(0.1*num_train_steps)\n",
    "\n",
    "init_lr = 2e-5\n",
    "# optimizer = optimization.create_optimizer(init_lr=init_lr,\n",
    "#                                           num_train_steps=2500,\n",
    "#                                           num_warmup_steps=25,\n",
    "#                                           optimizer_type='adamw')\n",
    "import tensorflow_addons as tfa\n",
    "\n",
    "optimizer=tfa.optimizers.Yogi(init_lr)"
   ]
  },
  {
   "cell_type": "markdown",
   "metadata": {
    "id": "SqlarlpC_v0g"
   },
   "source": [
    "### Loading the BERT model and training\n",
    "\n",
    "Using the `classifier_model` you created earlier, you can compile the model with the loss, metric and optimizer."
   ]
  },
  {
   "cell_type": "code",
   "execution_count": 23,
   "metadata": {
    "id": "-7GPDhR98jsD",
    "tags": []
   },
   "outputs": [],
   "source": [
    "classifier_model.compile(optimizer=optimizer,\n",
    "                         loss= \"categorical_crossentropy\",\n",
    "                         metrics=[\"accuracy\"])"
   ]
  },
  {
   "cell_type": "code",
   "execution_count": 24,
   "metadata": {},
   "outputs": [
    {
     "name": "stdout",
     "output_type": "stream",
     "text": [
      "Model: \"model\"\n",
      "__________________________________________________________________________________________________\n",
      "Layer (type)                    Output Shape         Param #     Connected to                     \n",
      "==================================================================================================\n",
      "text (InputLayer)               [(None,)]            0                                            \n",
      "__________________________________________________________________________________________________\n",
      "preprocessing (KerasLayer)      {'input_mask': (None 0           text[0][0]                       \n",
      "__________________________________________________________________________________________________\n",
      "BERT_encoder (KerasLayer)       {'default': (None, 1 4385921     preprocessing[0][0]              \n",
      "                                                                 preprocessing[0][1]              \n",
      "                                                                 preprocessing[0][2]              \n",
      "__________________________________________________________________________________________________\n",
      "dropout (Dropout)               (None, 128)          0           BERT_encoder[0][3]               \n",
      "__________________________________________________________________________________________________\n",
      "dense_768 (Dense)               (None, 768)          99072       dropout[0][0]                    \n",
      "__________________________________________________________________________________________________\n",
      "dropout_1 (Dropout)             (None, 768)          0           dense_768[0][0]                  \n",
      "__________________________________________________________________________________________________\n",
      "classifier (Dense)              (None, 11)           8459        dropout_1[0][0]                  \n",
      "==================================================================================================\n",
      "Total params: 4,493,452\n",
      "Trainable params: 4,493,451\n",
      "Non-trainable params: 1\n",
      "__________________________________________________________________________________________________\n"
     ]
    }
   ],
   "source": [
    "classifier_model.summary()"
   ]
  },
  {
   "cell_type": "code",
   "execution_count": 27,
   "metadata": {},
   "outputs": [
    {
     "data": {
      "text/plain": [
       "797     received call private number saying patient sa...\n",
       "532     received letter debit card 5000 representing d...\n",
       "1606    recognize information fraudulent account need ...\n",
       "1449    told company be group multiple time wrong numb...\n",
       "1408    bank america credit card 5 cash back promotion...\n",
       "                              ...                        \n",
       "1583    failed use reasonable care course business fai...\n",
       "1780    renter paid rent pal moved house called bank f...\n",
       "95      submitted documentation etc accordance interna...\n",
       "696     xxxxxxxx15 victim scan called fall purchased r...\n",
       "1166    billmelater charged late fee 3500 called make ...\n",
       "Name: consumer_complaint_narrative, Length: 1400, dtype: object"
      ]
     },
     "execution_count": 27,
     "metadata": {},
     "output_type": "execute_result"
    }
   ],
   "source": [
    "train_ds"
   ]
  },
  {
   "cell_type": "code",
   "execution_count": 31,
   "metadata": {},
   "outputs": [
    {
     "name": "stdout",
     "output_type": "stream",
     "text": [
      "22/22 [==============================] - 6s 289ms/step - loss: 2.2307 - accuracy: 0.2114 - val_loss: 2.0742 - val_accuracy: 0.3433\n"
     ]
    },
    {
     "name": "stderr",
     "output_type": "stream",
     "text": [
      "WARNING:absl:Found untraced functions such as restored_function_body, restored_function_body, restored_function_body, restored_function_body, restored_function_body while saving (showing 5 of 160). These functions will not be directly callable after loading.\n",
      "WARNING:urllib3.connectionpool:Failed to parse headers (url=http://minio-ml-workshop:9000/mlflow/3/bdee467fffae42aeb2f5a5c0cb592e68/artifacts/tensorboard_logs/validation/events.out.tfevents.1634000289.jupyterhub-nb-fmasood.166.3.v2): [MissingHeaderBodySeparatorDefect()], unparsed data: 'HTTP/1.1 200 OK\\r\\nAccept-Ranges: bytes\\r\\nContent-Length: 0\\r\\nContent-Security-Policy: block-all-mixed-content\\r\\nETag: \"00e442bb252d600df901a009e2c6429e\"\\r\\nServer: MinIO\\r\\nStrict-Transport-Security: max-age=31536000; includeSubDomains\\r\\nVary: Origin\\r\\nVary: Accept-Encoding\\r\\nX-Amz-Request-Id: 16AD229D8F019C88\\r\\nX-Content-Type-Options: nosniff\\r\\nX-Xss-Protection: 1; mode=block\\r\\nDate: Tue, 12 Oct 2021 00:58:19 GMT\\r\\n\\r\\n'\n",
      "Traceback (most recent call last):\n",
      "  File \"/opt/app-root/lib/python3.8/site-packages/urllib3/connectionpool.py\", line 465, in _make_request\n",
      "    assert_header_parsing(httplib_response.msg)\n",
      "  File \"/opt/app-root/lib/python3.8/site-packages/urllib3/util/response.py\", line 91, in assert_header_parsing\n",
      "    raise HeaderParsingError(defects=defects, unparsed_data=unparsed_data)\n",
      "urllib3.exceptions.HeaderParsingError: [MissingHeaderBodySeparatorDefect()], unparsed data: 'HTTP/1.1 200 OK\\r\\nAccept-Ranges: bytes\\r\\nContent-Length: 0\\r\\nContent-Security-Policy: block-all-mixed-content\\r\\nETag: \"00e442bb252d600df901a009e2c6429e\"\\r\\nServer: MinIO\\r\\nStrict-Transport-Security: max-age=31536000; includeSubDomains\\r\\nVary: Origin\\r\\nVary: Accept-Encoding\\r\\nX-Amz-Request-Id: 16AD229D8F019C88\\r\\nX-Content-Type-Options: nosniff\\r\\nX-Xss-Protection: 1; mode=block\\r\\nDate: Tue, 12 Oct 2021 00:58:19 GMT\\r\\n\\r\\n'\n"
     ]
    }
   ],
   "source": [
    "# # cp_callback = # checkpoint_filepath = '/tmp/checkpoint'\n",
    "# datasets_bucket = 'tensorflow-text-classification'\n",
    "# checkpoint_path = f\"/tmp/checkpoints/cp.ckpt\"\n",
    "# cp_callback = tf.keras.callbacks.ModelCheckpoint(\n",
    "#     filepath=checkpoint_filepath,\n",
    "#     save_weights_only=True,\n",
    "#     monitor='val_accuracy',\n",
    "#     mode='max',\n",
    "#     save_best_only=True)\n",
    "\n",
    "# model_note = \"256\"\n",
    "# logdir =  datetime.now().strftime(\"%Y%m%d-%H%M%S\")\n",
    "# logdir = f\"/tmp/logs/imdb/{model_note}-\" + datetime.now().strftime(\"%Y%m%d-%H%M%S\")\n",
    "\n",
    "# tensorboard_callback = tf.keras.callbacks.TensorBoard(log_dir=logdir)\n",
    "with mlflow.start_run(tags= {\n",
    "        \"mlflow.source.git.commit\" : get_git_revision_hash() ,\n",
    "        \"mlflow.user\": get_git_user(),\n",
    "        \"mlflow.source.git.repoURL\": get_git_remote(),\n",
    "        \"git_remote\": get_git_remote(),\n",
    "        \"mlflow.source.git.branch\": get_git_branch(),\n",
    "        \"mlflow.docker.image.name\": os.getenv(\"JUPYTER_IMAGE\", \"LOCAL\"),\n",
    "        \"mlflow.source.type\": \"NOTEBOOK\",\n",
    "#         \"mlflow.source.name\": ipynbname.name()\n",
    "    }) as run:\n",
    "        classifier_model.fit(\n",
    "            train_ds,labels_train, \n",
    "            validation_data=(test_ds,labels_test),\n",
    "            # callbacks=[cp_callback, tensorboard_callback],\n",
    "            # validation_split=0.2,\n",
    "            epochs=1,batch_size=64)\n",
    "        record_details(mlflow)\n",
    "\n"
   ]
  },
  {
   "cell_type": "code",
   "execution_count": null,
   "metadata": {},
   "outputs": [],
   "source": [
    "import mlflow\n",
    "logged_model = 'runs:/b197f17b9ff4470aa6887a4657475201/model'\n",
    "\n",
    "# Load model as a PyFuncModel.\n",
    "loaded_model = mlflow.pyfunc.load_model(logged_model)\n",
    "\n",
    "reloaded_model = tf.saved_model.load(saved_model_path)"
   ]
  },
  {
   "cell_type": "code",
   "execution_count": null,
   "metadata": {},
   "outputs": [],
   "source": [
    "model_name = 'tcsd1'\n",
    "model_version = '1'\n",
    "print(\"retrieving model metadata from mlflow...\")\n",
    "model = mlflow.pyfunc.load_model(\n",
    "    model_uri=f\"models:/{model_name}/{model_version}\"\n",
    ")\n",
    "print(model)\n",
    "\n",
    "run_id = model.metadata.run_id\n",
    "experiment_id = mlflow.get_run(run_id).info.experiment_id\n",
    "    \n",
    "\n",
    "data_file_model = client.fget_object(\"mlflow\", f\"/{experiment_id}/{run_id}/artifacts/model/\")"
   ]
  },
  {
   "cell_type": "code",
   "execution_count": 207,
   "metadata": {},
   "outputs": [
    {
     "ename": "AttributeError",
     "evalue": "'PyFuncModel' object has no attribute 'evaluate'",
     "output_type": "error",
     "traceback": [
      "\u001b[0;31m---------------------------------------------------------------------------\u001b[0m",
      "\u001b[0;31mAttributeError\u001b[0m                            Traceback (most recent call last)",
      "\u001b[0;32m<ipython-input-207-5fedc02161b0>\u001b[0m in \u001b[0;36m<module>\u001b[0;34m\u001b[0m\n\u001b[0;32m----> 1\u001b[0;31m \u001b[0mloss\u001b[0m\u001b[0;34m,\u001b[0m \u001b[0maccuracy\u001b[0m \u001b[0;34m=\u001b[0m \u001b[0mloaded_model\u001b[0m\u001b[0;34m.\u001b[0m\u001b[0mevaluate\u001b[0m\u001b[0;34m(\u001b[0m\u001b[0mtest_ds\u001b[0m\u001b[0;34m,\u001b[0m\u001b[0mlabels_test\u001b[0m\u001b[0;34m)\u001b[0m\u001b[0;34m\u001b[0m\u001b[0;34m\u001b[0m\u001b[0m\n\u001b[0m\u001b[1;32m      2\u001b[0m \u001b[0;34m\u001b[0m\u001b[0m\n\u001b[1;32m      3\u001b[0m \u001b[0mprint\u001b[0m\u001b[0;34m(\u001b[0m\u001b[0;34mf'Loss: {loss}'\u001b[0m\u001b[0;34m)\u001b[0m\u001b[0;34m\u001b[0m\u001b[0;34m\u001b[0m\u001b[0m\n\u001b[1;32m      4\u001b[0m \u001b[0mprint\u001b[0m\u001b[0;34m(\u001b[0m\u001b[0;34mf'Accuracy: {accuracy}'\u001b[0m\u001b[0;34m)\u001b[0m\u001b[0;34m\u001b[0m\u001b[0;34m\u001b[0m\u001b[0m\n",
      "\u001b[0;31mAttributeError\u001b[0m: 'PyFuncModel' object has no attribute 'evaluate'"
     ]
    }
   ],
   "source": [
    "loss, accuracy = loaded_model.evaluate(test_ds,labels_test)\n",
    "\n",
    "print(f'Loss: {loss}')\n",
    "print(f'Accuracy: {accuracy}')"
   ]
  },
  {
   "cell_type": "code",
   "execution_count": 172,
   "metadata": {},
   "outputs": [],
   "source": [
    "# HOST = \"http://mlflow:5500\"\n",
    "\n",
    "PROJECT_NAME = \"NLPTextClassification\"\n",
    "EXPERIMENT_NAME = \"DeepLearning\"\n",
    "\n",
    "os.environ['MLFLOW_S3_ENDPOINT_URL']='http://minio-ml-workshop:9000'\n",
    "os.environ['AWS_ACCESS_KEY_ID']='minio'\n",
    "os.environ['AWS_SECRET_ACCESS_KEY']='minio123'\n",
    "os.environ['AWS_REGION']='us-east-1'\n",
    "os.environ['AWS_BUCKET_NAME']='tensorflow-text-classification'\n",
    "os.environ[\"S3_USE_HTTPS\"] = \"0\"\n",
    "os.environ[\"S3_VERIFY_SSL\"] = \"0\"\n",
    "def get_s3_server():\n",
    "    minioClient = Minio('minio-ml-workshop:9000',\n",
    "                    access_key='minio',\n",
    "                    secret_key='minio123',\n",
    "                    secure=False)\n",
    "\n",
    "    return minioClient\n",
    "client = get_s3_server()"
   ]
  },
  {
   "cell_type": "markdown",
   "metadata": {
    "id": "CpBuV5j2cS_b"
   },
   "source": [
    "Note: training time will vary depending on the complexity of the BERT model you have selected."
   ]
  },
  {
   "cell_type": "code",
   "execution_count": 165,
   "metadata": {
    "id": "HtfDFAnN_Neu",
    "tags": []
   },
   "outputs": [
    {
     "name": "stdout",
     "output_type": "stream",
     "text": [
      "Training model with https://tfhub.dev/tensorflow/small_bert/bert_en_uncased_L-2_H-128_A-2/1\n",
      "Epoch 1/80\n",
      "22/22 [==============================] - 12s 258ms/step - loss: 2.4448 - accuracy: 0.1393 - val_loss: 2.2825 - val_accuracy: 0.2700\n",
      "Epoch 2/80\n",
      "22/22 [==============================] - 5s 234ms/step - loss: 2.3058 - accuracy: 0.2114 - val_loss: 2.1678 - val_accuracy: 0.2717\n",
      "Epoch 3/80\n",
      "22/22 [==============================] - 5s 234ms/step - loss: 2.2234 - accuracy: 0.2357 - val_loss: 2.0818 - val_accuracy: 0.2717\n",
      "Epoch 4/80\n",
      "22/22 [==============================] - 5s 233ms/step - loss: 2.1557 - accuracy: 0.2507 - val_loss: 2.0200 - val_accuracy: 0.2717\n",
      "Epoch 5/80\n",
      "22/22 [==============================] - 5s 235ms/step - loss: 2.0838 - accuracy: 0.2564 - val_loss: 1.9754 - val_accuracy: 0.2733\n",
      "Epoch 6/80\n",
      "22/22 [==============================] - 5s 235ms/step - loss: 2.0467 - accuracy: 0.2600 - val_loss: 1.9468 - val_accuracy: 0.2917\n",
      "Epoch 7/80\n",
      "22/22 [==============================] - 5s 235ms/step - loss: 2.0139 - accuracy: 0.2821 - val_loss: 1.9249 - val_accuracy: 0.3250\n",
      "Epoch 8/80\n",
      "22/22 [==============================] - 5s 232ms/step - loss: 2.0017 - accuracy: 0.2836 - val_loss: 1.9082 - val_accuracy: 0.3333\n",
      "Epoch 9/80\n",
      "22/22 [==============================] - 5s 233ms/step - loss: 1.9735 - accuracy: 0.2857 - val_loss: 1.8949 - val_accuracy: 0.3417\n",
      "Epoch 10/80\n",
      "22/22 [==============================] - 5s 234ms/step - loss: 1.9696 - accuracy: 0.2979 - val_loss: 1.8809 - val_accuracy: 0.3417\n",
      "Epoch 11/80\n",
      "22/22 [==============================] - 5s 233ms/step - loss: 1.9614 - accuracy: 0.2900 - val_loss: 1.8634 - val_accuracy: 0.3567\n",
      "Epoch 12/80\n",
      "22/22 [==============================] - 5s 234ms/step - loss: 1.9449 - accuracy: 0.3179 - val_loss: 1.8581 - val_accuracy: 0.3417\n",
      "Epoch 13/80\n",
      "22/22 [==============================] - 5s 236ms/step - loss: 1.9239 - accuracy: 0.3286 - val_loss: 1.8326 - val_accuracy: 0.3683\n",
      "Epoch 14/80\n",
      "22/22 [==============================] - 5s 236ms/step - loss: 1.9115 - accuracy: 0.3264 - val_loss: 1.8265 - val_accuracy: 0.3617\n",
      "Epoch 15/80\n",
      "22/22 [==============================] - 5s 232ms/step - loss: 1.8818 - accuracy: 0.3464 - val_loss: 1.8118 - val_accuracy: 0.3783\n",
      "Epoch 16/80\n",
      "22/22 [==============================] - 5s 237ms/step - loss: 1.8603 - accuracy: 0.3664 - val_loss: 1.7902 - val_accuracy: 0.3867\n",
      "Epoch 17/80\n",
      "22/22 [==============================] - 5s 239ms/step - loss: 1.8494 - accuracy: 0.3664 - val_loss: 1.7617 - val_accuracy: 0.4083\n",
      "Epoch 18/80\n",
      "22/22 [==============================] - 5s 234ms/step - loss: 1.8456 - accuracy: 0.3864 - val_loss: 1.7480 - val_accuracy: 0.4200\n",
      "Epoch 19/80\n",
      "22/22 [==============================] - 5s 234ms/step - loss: 1.8089 - accuracy: 0.4064 - val_loss: 1.7239 - val_accuracy: 0.4283\n",
      "Epoch 20/80\n",
      "22/22 [==============================] - 5s 233ms/step - loss: 1.7638 - accuracy: 0.4257 - val_loss: 1.6946 - val_accuracy: 0.4383\n",
      "Epoch 21/80\n",
      "22/22 [==============================] - 5s 231ms/step - loss: 1.7479 - accuracy: 0.4450 - val_loss: 1.6628 - val_accuracy: 0.4500\n",
      "Epoch 22/80\n",
      "22/22 [==============================] - 5s 236ms/step - loss: 1.7040 - accuracy: 0.4650 - val_loss: 1.6223 - val_accuracy: 0.4667\n",
      "Epoch 23/80\n",
      "22/22 [==============================] - 5s 232ms/step - loss: 1.6837 - accuracy: 0.4607 - val_loss: 1.5896 - val_accuracy: 0.4783\n",
      "Epoch 24/80\n",
      "22/22 [==============================] - 5s 233ms/step - loss: 1.6478 - accuracy: 0.4807 - val_loss: 1.5451 - val_accuracy: 0.4917\n",
      "Epoch 25/80\n",
      "22/22 [==============================] - 5s 231ms/step - loss: 1.6263 - accuracy: 0.4900 - val_loss: 1.5241 - val_accuracy: 0.5167\n",
      "Epoch 26/80\n",
      "22/22 [==============================] - 5s 235ms/step - loss: 1.5847 - accuracy: 0.5014 - val_loss: 1.4872 - val_accuracy: 0.5267\n",
      "Epoch 27/80\n",
      "22/22 [==============================] - 5s 236ms/step - loss: 1.5627 - accuracy: 0.5093 - val_loss: 1.4559 - val_accuracy: 0.5483\n",
      "Epoch 28/80\n",
      "22/22 [==============================] - 5s 234ms/step - loss: 1.5319 - accuracy: 0.5214 - val_loss: 1.4136 - val_accuracy: 0.5583\n",
      "Epoch 29/80\n",
      "22/22 [==============================] - 5s 233ms/step - loss: 1.4963 - accuracy: 0.5214 - val_loss: 1.3813 - val_accuracy: 0.5783\n",
      "Epoch 30/80\n",
      "22/22 [==============================] - 5s 232ms/step - loss: 1.4707 - accuracy: 0.5336 - val_loss: 1.3664 - val_accuracy: 0.5900\n",
      "Epoch 31/80\n",
      "22/22 [==============================] - 5s 230ms/step - loss: 1.4192 - accuracy: 0.5621 - val_loss: 1.3454 - val_accuracy: 0.5967\n",
      "Epoch 32/80\n",
      "22/22 [==============================] - 5s 236ms/step - loss: 1.4195 - accuracy: 0.5557 - val_loss: 1.2946 - val_accuracy: 0.6200\n",
      "Epoch 33/80\n",
      "22/22 [==============================] - 5s 235ms/step - loss: 1.3581 - accuracy: 0.5736 - val_loss: 1.2759 - val_accuracy: 0.6267\n",
      "Epoch 34/80\n",
      "22/22 [==============================] - 5s 235ms/step - loss: 1.3650 - accuracy: 0.5793 - val_loss: 1.2483 - val_accuracy: 0.6283\n",
      "Epoch 35/80\n",
      "22/22 [==============================] - 5s 244ms/step - loss: 1.3412 - accuracy: 0.5950 - val_loss: 1.2188 - val_accuracy: 0.6483\n",
      "Epoch 36/80\n",
      "22/22 [==============================] - 5s 232ms/step - loss: 1.3070 - accuracy: 0.6086 - val_loss: 1.2170 - val_accuracy: 0.6500\n",
      "Epoch 37/80\n",
      "22/22 [==============================] - 6s 253ms/step - loss: 1.2832 - accuracy: 0.6029 - val_loss: 1.1774 - val_accuracy: 0.6633\n",
      "Epoch 38/80\n",
      "22/22 [==============================] - 5s 233ms/step - loss: 1.2602 - accuracy: 0.6200 - val_loss: 1.1470 - val_accuracy: 0.6717\n",
      "Epoch 39/80\n",
      "22/22 [==============================] - 5s 237ms/step - loss: 1.2184 - accuracy: 0.6336 - val_loss: 1.1387 - val_accuracy: 0.6717\n",
      "Epoch 40/80\n",
      "22/22 [==============================] - 5s 235ms/step - loss: 1.2138 - accuracy: 0.6343 - val_loss: 1.1082 - val_accuracy: 0.6867\n",
      "Epoch 41/80\n",
      "22/22 [==============================] - 5s 236ms/step - loss: 1.1893 - accuracy: 0.6393 - val_loss: 1.0966 - val_accuracy: 0.6950\n",
      "Epoch 42/80\n",
      "22/22 [==============================] - 5s 235ms/step - loss: 1.1852 - accuracy: 0.6364 - val_loss: 1.0840 - val_accuracy: 0.6867\n",
      "Epoch 43/80\n",
      "22/22 [==============================] - 5s 234ms/step - loss: 1.1407 - accuracy: 0.6600 - val_loss: 1.0623 - val_accuracy: 0.6917\n",
      "Epoch 44/80\n",
      "22/22 [==============================] - 5s 235ms/step - loss: 1.1371 - accuracy: 0.6679 - val_loss: 1.0425 - val_accuracy: 0.7033\n",
      "Epoch 45/80\n",
      "22/22 [==============================] - 5s 233ms/step - loss: 1.1029 - accuracy: 0.6586 - val_loss: 1.0413 - val_accuracy: 0.6950\n",
      "Epoch 46/80\n",
      "22/22 [==============================] - 5s 237ms/step - loss: 1.1084 - accuracy: 0.6650 - val_loss: 1.0100 - val_accuracy: 0.7067\n",
      "Epoch 47/80\n",
      "22/22 [==============================] - 5s 235ms/step - loss: 1.0773 - accuracy: 0.6764 - val_loss: 1.0072 - val_accuracy: 0.7083\n",
      "Epoch 48/80\n",
      "22/22 [==============================] - 6s 263ms/step - loss: 1.0600 - accuracy: 0.6750 - val_loss: 0.9868 - val_accuracy: 0.7117\n",
      "Epoch 49/80\n",
      "22/22 [==============================] - 5s 235ms/step - loss: 1.0676 - accuracy: 0.6721 - val_loss: 0.9720 - val_accuracy: 0.7117\n",
      "Epoch 50/80\n",
      "22/22 [==============================] - 5s 236ms/step - loss: 1.0319 - accuracy: 0.6943 - val_loss: 0.9866 - val_accuracy: 0.7033\n",
      "Epoch 51/80\n",
      "22/22 [==============================] - 5s 235ms/step - loss: 1.0051 - accuracy: 0.6943 - val_loss: 0.9507 - val_accuracy: 0.7133\n",
      "Epoch 52/80\n",
      "22/22 [==============================] - 5s 237ms/step - loss: 1.0176 - accuracy: 0.6971 - val_loss: 0.9515 - val_accuracy: 0.7150\n",
      "Epoch 53/80\n",
      "22/22 [==============================] - 5s 233ms/step - loss: 0.9986 - accuracy: 0.6943 - val_loss: 0.9406 - val_accuracy: 0.7150\n",
      "Epoch 54/80\n",
      "22/22 [==============================] - 5s 236ms/step - loss: 0.9800 - accuracy: 0.6993 - val_loss: 0.9369 - val_accuracy: 0.7133\n",
      "Epoch 55/80\n",
      "22/22 [==============================] - 5s 234ms/step - loss: 0.9505 - accuracy: 0.7200 - val_loss: 0.9196 - val_accuracy: 0.7217\n",
      "Epoch 56/80\n",
      "22/22 [==============================] - 5s 233ms/step - loss: 0.9578 - accuracy: 0.7100 - val_loss: 0.9179 - val_accuracy: 0.7150\n",
      "Epoch 57/80\n",
      "22/22 [==============================] - 5s 232ms/step - loss: 0.9201 - accuracy: 0.7243 - val_loss: 0.9053 - val_accuracy: 0.7217\n",
      "Epoch 58/80\n",
      "22/22 [==============================] - 5s 233ms/step - loss: 0.9278 - accuracy: 0.7186 - val_loss: 0.9022 - val_accuracy: 0.7183\n",
      "Epoch 59/80\n",
      "22/22 [==============================] - 6s 264ms/step - loss: 0.9281 - accuracy: 0.7157 - val_loss: 0.8946 - val_accuracy: 0.7183\n",
      "Epoch 60/80\n",
      "22/22 [==============================] - 5s 231ms/step - loss: 0.9257 - accuracy: 0.7221 - val_loss: 0.8887 - val_accuracy: 0.7250\n",
      "Epoch 61/80\n",
      "22/22 [==============================] - 5s 231ms/step - loss: 0.8953 - accuracy: 0.7350 - val_loss: 0.8921 - val_accuracy: 0.7150\n",
      "Epoch 62/80\n",
      "22/22 [==============================] - 5s 230ms/step - loss: 0.8884 - accuracy: 0.7279 - val_loss: 0.8897 - val_accuracy: 0.7200\n",
      "Epoch 63/80\n",
      "22/22 [==============================] - 5s 232ms/step - loss: 0.8830 - accuracy: 0.7393 - val_loss: 0.8710 - val_accuracy: 0.7250\n",
      "Epoch 64/80\n",
      "22/22 [==============================] - 5s 230ms/step - loss: 0.8542 - accuracy: 0.7386 - val_loss: 0.8831 - val_accuracy: 0.7167\n",
      "Epoch 65/80\n",
      "22/22 [==============================] - 5s 232ms/step - loss: 0.8653 - accuracy: 0.7393 - val_loss: 0.8702 - val_accuracy: 0.7300\n",
      "Epoch 66/80\n",
      "22/22 [==============================] - 5s 236ms/step - loss: 0.8485 - accuracy: 0.7400 - val_loss: 0.8619 - val_accuracy: 0.7317\n",
      "Epoch 67/80\n",
      "22/22 [==============================] - 5s 235ms/step - loss: 0.8475 - accuracy: 0.7414 - val_loss: 0.8656 - val_accuracy: 0.7217\n",
      "Epoch 68/80\n",
      "22/22 [==============================] - 5s 233ms/step - loss: 0.8181 - accuracy: 0.7550 - val_loss: 0.8613 - val_accuracy: 0.7283\n",
      "Epoch 69/80\n",
      "22/22 [==============================] - 5s 233ms/step - loss: 0.8054 - accuracy: 0.7629 - val_loss: 0.8508 - val_accuracy: 0.7367\n",
      "Epoch 70/80\n",
      "22/22 [==============================] - 5s 234ms/step - loss: 0.8026 - accuracy: 0.7571 - val_loss: 0.8470 - val_accuracy: 0.7433\n",
      "Epoch 71/80\n",
      "22/22 [==============================] - 5s 237ms/step - loss: 0.8126 - accuracy: 0.7579 - val_loss: 0.8446 - val_accuracy: 0.7383\n",
      "Epoch 72/80\n",
      "22/22 [==============================] - 5s 236ms/step - loss: 0.7998 - accuracy: 0.7621 - val_loss: 0.8413 - val_accuracy: 0.7500\n",
      "Epoch 73/80\n",
      "22/22 [==============================] - 5s 232ms/step - loss: 0.7912 - accuracy: 0.7614 - val_loss: 0.8391 - val_accuracy: 0.7433\n",
      "Epoch 74/80\n",
      "22/22 [==============================] - 5s 234ms/step - loss: 0.7581 - accuracy: 0.7764 - val_loss: 0.8368 - val_accuracy: 0.7383\n",
      "Epoch 75/80\n",
      "22/22 [==============================] - 5s 235ms/step - loss: 0.7722 - accuracy: 0.7564 - val_loss: 0.8330 - val_accuracy: 0.7400\n",
      "Epoch 76/80\n",
      "22/22 [==============================] - 5s 232ms/step - loss: 0.7718 - accuracy: 0.7621 - val_loss: 0.8252 - val_accuracy: 0.7500\n",
      "Epoch 77/80\n",
      "22/22 [==============================] - 5s 234ms/step - loss: 0.7334 - accuracy: 0.7886 - val_loss: 0.8332 - val_accuracy: 0.7383\n",
      "Epoch 78/80\n",
      "22/22 [==============================] - 5s 233ms/step - loss: 0.7598 - accuracy: 0.7700 - val_loss: 0.8241 - val_accuracy: 0.7383\n",
      "Epoch 79/80\n",
      "22/22 [==============================] - 5s 233ms/step - loss: 0.7606 - accuracy: 0.7643 - val_loss: 0.8217 - val_accuracy: 0.7400\n",
      "Epoch 80/80\n",
      "22/22 [==============================] - 5s 233ms/step - loss: 0.7370 - accuracy: 0.7764 - val_loss: 0.8168 - val_accuracy: 0.7500\n"
     ]
    }
   ],
   "source": [
    "print(f'Training model with {tfhub_handle_encoder}')\n",
    "from datetime import datetime\n",
    "\n",
    "# checkpoint_filepath = '/tmp/checkpoint'\n",
    "datasets_bucket = tensorflow-text-classification\n",
    "checkpoint_path = f\"s3://{datasets_bucket}/checkpoints/cp.ckpt\"\n",
    "model_checkpoint_callback = tf.keras.callbacks.ModelCheckpoint(\n",
    "    filepath=checkpoint_filepath,\n",
    "    save_weights_only=True,\n",
    "    monitor='val_accuracy',\n",
    "    mode='max',\n",
    "    save_best_only=True)\n",
    "\n",
    "model_note = \"256\"\n",
    "logdir = f\"s3://{datasets_bucket}/logs/imdb/{model_note}-\" + datetime.now().strftime(\"%Y%m%d-%H%M%S\")\n",
    "tensorboard_callback = tf.keras.callbacks.TensorBoard(log_dir=logdir)\n",
    "\n",
    "\n",
    "history = classifier_model.fit(\n",
    "    train_ds,labels_train, \n",
    "    validation_data=(test_ds,labels_test),\n",
    "    callbacks=[cp_callback, tensorboard_callback],\n",
    "    # validation_split=0.2,\n",
    "    epochs=2,batch_size=64)\n",
    "    # callbacks=[checkpoint, earlystopping],\n",
    "    # batch_size=1,\n",
    "    # verbose=1)\n",
    "\n",
    "# Now that we have our model, we want to save it to MinIO\n",
    "# classifier_model.save(saved_model_path, include_optimizer=False)\n",
    "classifier_model.save(f\"s3://{datasets_bucket}/CC_sentiment_analysis\", include_optimizer=False)\n",
    "# history = classifier_model.fit(x=train_ds,\n",
    "#                                validation_data=val_ds,\n",
    "#                                epochs=epochs)"
   ]
  },
  {
   "cell_type": "markdown",
   "metadata": {
    "id": "uBthMlTSV8kn"
   },
   "source": [
    "### Evaluate the model\n",
    "\n",
    "Let's see how the model performs. Two values will be returned. Loss (a number which represents the error, lower values are better), and accuracy."
   ]
  },
  {
   "cell_type": "code",
   "execution_count": 156,
   "metadata": {
    "id": "slqB-urBV9sP",
    "tags": []
   },
   "outputs": [
    {
     "name": "stdout",
     "output_type": "stream",
     "text": [
      "19/19 [==============================] - 1s 38ms/step - loss: 0.9852 - accuracy: 0.7133\n",
      "Loss: 0.9851691722869873\n",
      "Accuracy: 0.7133333086967468\n"
     ]
    }
   ],
   "source": [
    "loss, accuracy = classifier_model.evaluate(test_ds,labels_test)\n",
    "\n",
    "print(f'Loss: {loss}')\n",
    "print(f'Accuracy: {accuracy}')"
   ]
  },
  {
   "cell_type": "markdown",
   "metadata": {
    "id": "uttWpgmSfzq9"
   },
   "source": [
    "### Plot the accuracy and loss over time\n",
    "\n",
    "Based on the `History` object returned by `model.fit()`. You can plot the training and validation loss for comparison, as well as the training and validation accuracy:"
   ]
  },
  {
   "cell_type": "code",
   "execution_count": 167,
   "metadata": {
    "id": "fiythcODf0xo",
    "tags": []
   },
   "outputs": [
    {
     "name": "stdout",
     "output_type": "stream",
     "text": [
      "dict_keys(['loss', 'accuracy', 'val_loss', 'val_accuracy'])\n"
     ]
    },
    {
     "data": {
      "text/plain": [
       "<matplotlib.legend.Legend at 0x7f0e647360a0>"
      ]
     },
     "execution_count": 167,
     "metadata": {},
     "output_type": "execute_result"
    },
    {
     "data": {
      "image/png": "[encoded data removed]",
      "text/plain": [
       "<Figure size 720x432 with 2 Axes>"
      ]
     },
     "metadata": {
      "needs_background": "light"
     },
     "output_type": "display_data"
    }
   ],
   "source": [
    "history_dict = history.history\n",
    "print(history_dict.keys())\n",
    "\n",
    "acc = history_dict['accuracy']\n",
    "val_acc = history_dict['val_accuracy']\n",
    "loss = history_dict['loss']\n",
    "val_loss = history_dict['val_loss']\n",
    "\n",
    "epochs = range(1, len(acc) + 1)\n",
    "fig = plt.figure(figsize=(10, 6))\n",
    "fig.tight_layout()\n",
    "\n",
    "plt.subplot(2, 1, 1)\n",
    "# \"bo\" is for \"blue dot\"\n",
    "plt.plot(epochs, loss, 'r', label='Training loss')\n",
    "# b is for \"solid blue line\"\n",
    "plt.plot(epochs, val_loss, 'b', label='Validation loss')\n",
    "plt.title('Training and validation loss')\n",
    "# plt.xlabel('Epochs')\n",
    "plt.ylabel('Loss')\n",
    "plt.legend()\n",
    "\n",
    "plt.subplot(2, 1, 2)\n",
    "plt.plot(epochs, acc, 'r', label='Training acc')\n",
    "plt.plot(epochs, val_acc, 'b', label='Validation acc')\n",
    "plt.title('Training and validation accuracy')\n",
    "plt.xlabel('Epochs')\n",
    "plt.ylabel('Accuracy')\n",
    "plt.legend(loc='lower right')"
   ]
  },
  {
   "cell_type": "markdown",
   "metadata": {
    "id": "WzJZCo-cf-Jf"
   },
   "source": [
    "In this plot, the red lines represent the training loss and accuracy, and the blue lines are the validation loss and accuracy."
   ]
  },
  {
   "cell_type": "markdown",
   "metadata": {
    "id": "Rtn7jewb6dg4"
   },
   "source": [
    "## Export for inference\n",
    "\n",
    "Now you just save your fine-tuned model for later use."
   ]
  },
  {
   "cell_type": "code",
   "execution_count": null,
   "metadata": {
    "id": "ShcvqJAgVera",
    "tags": []
   },
   "outputs": [],
   "source": [
    "dataset_name = 'ConsumerComplain'\n",
    "saved_model_path = './{}_bert'.format(dataset_name.replace('/', '_'))\n",
    "\n",
    "classifier_model.save(saved_model_path, include_optimizer=False)"
   ]
  },
  {
   "cell_type": "markdown",
   "metadata": {
    "id": "PbI25bS1vD7s"
   },
   "source": [
    "Let's reload the model, so you can try it side by side with the model that is still in memory."
   ]
  },
  {
   "cell_type": "code",
   "execution_count": null,
   "metadata": {
    "id": "gUEWVskZjEF0",
    "tags": []
   },
   "outputs": [],
   "source": [
    "reloaded_model = tf.saved_model.load(saved_model_path)"
   ]
  },
  {
   "cell_type": "markdown",
   "metadata": {
    "id": "oyTappHTvNCz"
   },
   "source": [
    "Here you can test your model on any sentence you want, just add to the examples variable below."
   ]
  },
  {
   "cell_type": "code",
   "execution_count": null,
   "metadata": {
    "id": "VBWzH6exlCPS",
    "tags": []
   },
   "outputs": [],
   "source": [
    "def print_my_examples(inputs, results):\n",
    "  result_for_printing = \\\n",
    "    [f'input: {inputs[i]:<30} : score: {results[i][0]:.6f}'\n",
    "                         for i in range(len(inputs))]\n",
    "  print(*result_for_printing, sep='\\n')\n",
    "  print()\n",
    "\n",
    "\n",
    "examples = [\n",
    "    'this is such an amazing movie!',  # this is the same sentence tried earlier\n",
    "    'The movie was great!',\n",
    "    'The movie was meh.',\n",
    "    'The movie was okish.',\n",
    "    'The movie was terrible...'\n",
    "]\n",
    "\n",
    "reloaded_results = tf.sigmoid(reloaded_model(tf.constant(examples)))\n",
    "original_results = tf.sigmoid(classifier_model(tf.constant(examples)))\n",
    "\n",
    "print('Results from the saved model:')\n",
    "print_my_examples(examples, reloaded_results)\n",
    "print('Results from the model in memory:')\n",
    "print_my_examples(examples, original_results)"
   ]
  },
  {
   "cell_type": "markdown",
   "metadata": {
    "id": "3cOmih754Y_M"
   },
   "source": [
    "If you want to use your model on [TF Serving](https://www.tensorflow.org/tfx/guide/serving), remember that it will call your SavedModel through one of its named signatures. In Python, you can test them as follows:"
   ]
  },
  {
   "cell_type": "code",
   "execution_count": null,
   "metadata": {
    "id": "0FdVD3973S-O",
    "tags": []
   },
   "outputs": [],
   "source": [
    "serving_results = reloaded_model \\\n",
    "            .signatures['serving_default'](tf.constant(examples))\n",
    "\n",
    "serving_results = tf.sigmoid(serving_results['classifier'])\n",
    "\n",
    "print_my_examples(examples, serving_results)"
   ]
  },
  {
   "cell_type": "markdown",
   "metadata": {
    "id": "B4gN1KwReLPN"
   },
   "source": [
    "## Next steps\n",
    "\n",
    "As a next step, you can try [Solve GLUE tasks using BERT on a TPU tutorial](https://www.tensorflow.org/text/tutorials/bert_glue), which runs on a TPU and shows you how to work with multiple inputs."
   ]
  },
  {
   "cell_type": "code",
   "execution_count": null,
   "metadata": {},
   "outputs": [],
   "source": []
  },
  {
   "cell_type": "code",
   "execution_count": null,
   "metadata": {},
   "outputs": [],
   "source": []
  },
  {
   "cell_type": "code",
   "execution_count": null,
   "metadata": {},
   "outputs": [],
   "source": []
  },
  {
   "cell_type": "code",
   "execution_count": null,
   "metadata": {},
   "outputs": [],
   "source": []
  },
  {
   "cell_type": "code",
   "execution_count": null,
   "metadata": {},
   "outputs": [],
   "source": []
  }
 ],
 "metadata": {
  "colab": {
   "collapsed_sections": [],
   "name": "classify_text_with_bert.ipynb",
   "provenance": [],
   "toc_visible": true
  },
  "kernelspec": {
   "display_name": "Python 3",
   "language": "python",
   "name": "python3"
  },
  "language_info": {
   "codemirror_mode": {
    "name": "ipython",
    "version": 3
   },
   "file_extension": ".py",
   "mimetype": "text/x-python",
   "name": "python",
   "nbconvert_exporter": "python",
   "pygments_lexer": "ipython3",
   "version": "3.8.6"
  }
 },
 "nbformat": 4,
 "nbformat_minor": 4
}
