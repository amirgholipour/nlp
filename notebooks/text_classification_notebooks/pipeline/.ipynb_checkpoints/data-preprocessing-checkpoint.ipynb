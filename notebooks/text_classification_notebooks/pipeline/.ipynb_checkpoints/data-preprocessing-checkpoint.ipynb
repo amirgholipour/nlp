{
 "cells": [
  {
   "cell_type": "code",
   "execution_count": null,
   "id": "8b7610d6-0ad9-4a92-9c9f-cc38e9ae3ff7",
   "metadata": {},
   "outputs": [],
   "source": [
    "import os\n",
    "import sys\n",
    "# sys.path is a list of absolute path strings\n",
    "sys.path.append('/opt/app-root/src/anz_ml_project/')\n",
    "\n",
    "from klepto.archives import file_archive\n",
    "from src.features.build_features import BuildFeatures\n",
    "import joblib"
   ]
  },
  {
   "cell_type": "code",
   "execution_count": null,
   "id": "4ee91a38-24f4-4e5a-9d03-5f4026a0c85b",
   "metadata": {},
   "outputs": [],
   "source": [
    "\n",
    "db1 = file_archive('variables-step1.pkl')\n",
    "db1.load()\n",
    "# db['train_data'] = train_data\n",
    "# db['test_data'] = test_data\n",
    "# db['train_labels'] = train_labels\n",
    "# db['test_labels'] = test_labels\n",
    "# db['enc'] = enc"
   ]
  },
  {
   "cell_type": "code",
   "execution_count": null,
   "id": "a0a1d293-a237-4ca7-a2d2-3a255e7bd921",
   "metadata": {},
   "outputs": [],
   "source": [
    "db1['train_data']"
   ]
  },
  {
   "cell_type": "code",
   "execution_count": null,
   "id": "97783ed7-0157-4839-bbb0-310e9802fc00",
   "metadata": {},
   "outputs": [],
   "source": [
    "BFCLASS = BuildFeatures(TRAIN_DATA=db1['train_data'],TEST_DATA=db1['test_data'],TRAIN_LABELS=db1['train_labels'],TEST_LABELS=db1['test_labels'],S3BucketName = \"raw-data-saeed\", GloveData=\"glove.6B.50d.txt\",EMBEDDING_DIM=50, WEIGHT_FLAG = False,MLFLOW_S3_ENDPOINT_URL = \"minio-ml-workshop:9000\",AWS_ACCESS_KEY_ID='minio',AWS_SECRET_ACCESS_KEY = 'minio123',SECURE = False)"
   ]
  },
  {
   "cell_type": "code",
   "execution_count": null,
   "id": "3f200af5-5a53-469e-90eb-525b36569df1",
   "metadata": {},
   "outputs": [],
   "source": [
    "train_data,test_data,train_labels , test_labels,word_index,tokenizer,MAX_SEQUENCE_LENGTH = BFCLASS.PreProcessingTextData()"
   ]
  },
  {
   "cell_type": "code",
   "execution_count": null,
   "id": "fb193493-bf31-435e-b63e-98a83a79e71c",
   "metadata": {},
   "outputs": [],
   "source": [
    "joblib.dump(tokenizer, 'tokenizer.pkl')  "
   ]
  },
  {
   "cell_type": "code",
   "execution_count": null,
   "id": "0543243d-2a51-43a7-a2ad-944e60c4da79",
   "metadata": {},
   "outputs": [],
   "source": [
    "from klepto.archives import file_archive\n",
    "db = file_archive('variables-step2.pkl')\n",
    "db['train_data'] = train_data\n",
    "db['test_data'] = test_data\n",
    "db['train_labels'] = train_labels\n",
    "db['test_labels'] = test_labels\n",
    "\n",
    "db['word_index'] = word_index\n",
    "db['MAX_SEQUENCE_LENGTH'] = MAX_SEQUENCE_LENGTH\n",
    "db['tokenizer'] = tokenizer\n",
    "db['enc'] = db1['enc']\n",
    "db.dump()"
   ]
  },
  {
   "cell_type": "code",
   "execution_count": null,
   "id": "793628d9-aff5-4d81-8942-bd82a65fc7aa",
   "metadata": {},
   "outputs": [],
   "source": []
  }
 ],
 "metadata": {
  "kernelspec": {
   "display_name": "Python 3.9 (XPython)",
   "language": "python",
   "name": "xpython"
  },
  "language_info": {
   "file_extension": ".py",
   "mimetype": "text/x-python",
   "name": "python",
   "version": "3.9.7"
  }
 },
 "nbformat": 4,
 "nbformat_minor": 5
}
