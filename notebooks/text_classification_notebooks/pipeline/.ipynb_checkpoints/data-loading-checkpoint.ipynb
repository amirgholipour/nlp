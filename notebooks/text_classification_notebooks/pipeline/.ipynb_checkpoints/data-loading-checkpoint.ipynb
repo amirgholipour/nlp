{
 "cells": [
  {
   "cell_type": "markdown",
   "id": "54d0d50f",
   "metadata": {
    "tags": [
     "papermill-error-cell-tag"
    ]
   },
   "source": [
    "<span style=\"color:red; font-family:Helvetica Neue, Helvetica, Arial, sans-serif; font-size:2em;\">An Exception was encountered at '<a href=\"#papermill-error-cell\">In [2]</a>'.</span>"
   ]
  },
  {
   "cell_type": "code",
   "execution_count": null,
   "id": "464f3bc4-80b4-451b-b643-092a7ccd9794",
   "metadata": {
    "papermill": {
     "duration": 2.711469,
     "end_time": "2021-10-27T04:05:12.821878",
     "exception": false,
     "start_time": "2021-10-27T04:05:10.110409",
     "status": "completed"
    },
    "tags": []
   },
   "outputs": [],
   "source": [
    "import os\n",
    "import sys\n",
    "# sys.path is a list of absolute path strings\n",
    "sys.path.append('/opt/app-root/src/anz_ml_project/')\n",
    "from src.loadingdata.read_dataset import ReadData\n",
    "from klepto.archives import file_archive\n",
    "\n",
    "from minio import Minio\n",
    "import joblib"
   ]
  },
  {
   "cell_type": "markdown",
   "id": "bd7c58c6",
   "metadata": {
    "tags": [
     "papermill-error-cell-tag"
    ]
   },
   "source": [
    "<span id=\"papermill-error-cell\" style=\"color:red; font-family:Helvetica Neue, Helvetica, Arial, sans-serif; font-size:2em;\">Execution using papermill encountered an exception here and stopped:</span>"
   ]
  },
  {
   "cell_type": "code",
   "execution_count": null,
   "id": "6fe1f0c7-00fe-4391-b130-1abe66bf1ede",
   "metadata": {
    "papermill": {
     "duration": 0.332617,
     "end_time": "2021-10-27T04:05:13.156636",
     "exception": true,
     "start_time": "2021-10-27T04:05:12.824019",
     "status": "failed"
    },
    "tags": []
   },
   "outputs": [],
   "source": [
    "# s3_bucket_name = \"raw-data-saeed\"\n",
    "# file_name=\"large_cc_data.csv\"\n",
    "from klepto.archives import file_archive\n",
    "\n",
    "# db = file_archive('variables-step1.pkl')\n",
    "# db.load()\n",
    "os.environ[\"S3_BUCKET_NAME\"] = 'raw-data-saeed'\n",
    "os.environ[\"FILE_NAME\"] = 'data.csv'\n",
    "\n"
   ]
  },
  {
   "cell_type": "code",
   "execution_count": null,
   "id": "818fe841-c3d2-4312-bd81-c2e8c311cbcc",
   "metadata": {},
   "outputs": [],
   "source": [
    "def get_s3_server():\n",
    "    minioClient = Minio('minio-ml-workshop:9000',\n",
    "                    access_key='minio',\n",
    "                    secret_key='minio123',\n",
    "                    secure=False)\n",
    "\n",
    "    return minioClient\n",
    "\n",
    "client = get_s3_server()\n"
   ]
  },
  {
   "cell_type": "code",
   "execution_count": null,
   "id": "9fcb67f3-b348-43fd-9e98-b4e87e42c947",
   "metadata": {},
   "outputs": [],
   "source": [
    "train_data, test_data, train_labels, test_labels,enc = ReadData(S3BucketName = os.environ[\"S3_BUCKET_NAME\"],FILE_NAME=os.environ[\"FILE_NAME\"]).ReadDataFrameData()"
   ]
  },
  {
   "cell_type": "code",
   "execution_count": null,
   "id": "4b0a0aae-fe97-4054-88ed-c094a1e5cea3",
   "metadata": {},
   "outputs": [],
   "source": [
    "joblib.dump(enc, 'labelencoder.pkl')  "
   ]
  },
  {
   "cell_type": "code",
   "execution_count": null,
   "id": "f7345fdc-d0ed-488e-abab-64ba52969552",
   "metadata": {},
   "outputs": [],
   "source": [
    "from klepto.archives import file_archive\n",
    "db = file_archive('variables-step1.pkl')\n",
    "db['train_data'] = train_data\n",
    "db['test_data'] = test_data\n",
    "db['train_labels'] = train_labels\n",
    "db['test_labels'] = test_labels\n",
    "db['enc'] = enc\n",
    "db.dump()"
   ]
  },
  {
   "cell_type": "code",
   "execution_count": null,
   "id": "ffea10b2-066f-4de1-a298-e9ae641bf7f8",
   "metadata": {},
   "outputs": [],
   "source": []
  },
  {
   "cell_type": "code",
   "execution_count": null,
   "id": "5c02264a-bdb0-4de3-af96-eded3fbe111f",
   "metadata": {},
   "outputs": [],
   "source": []
  }
 ],
 "metadata": {
  "kernelspec": {
   "display_name": "Python 3.9 (XPython)",
   "language": "python",
   "name": "xpython"
  },
  "language_info": {
   "file_extension": ".py",
   "mimetype": "text/x-python",
   "name": "python",
   "version": "3.9.7"
  },
  "papermill": {
   "default_parameters": {},
   "duration": 5.023892,
   "end_time": "2021-10-27T04:05:14.393043",
   "environment_variables": {},
   "exception": true,
   "input_path": "/opt/app-root/src/anz_ml_project/notebooks/text_classification_notebooks/pipeline/data-loading.ipynb",
   "output_path": "/opt/app-root/src/anz_ml_project/notebooks/text_classification_notebooks/pipeline/data-loading.ipynb",
   "parameters": {},
   "start_time": "2021-10-27T04:05:09.369151",
   "version": "2.3.3"
  }
 },
 "nbformat": 4,
 "nbformat_minor": 5
}
