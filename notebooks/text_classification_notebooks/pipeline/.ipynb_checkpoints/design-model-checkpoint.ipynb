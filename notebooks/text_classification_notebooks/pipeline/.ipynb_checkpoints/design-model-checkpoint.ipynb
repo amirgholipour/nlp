{
 "cells": [
  {
   "cell_type": "code",
   "execution_count": null,
   "id": "ba64386d-f272-4701-8b47-26eedeb69826",
   "metadata": {},
   "outputs": [],
   "source": [
    "import os\n",
    "import sys\n",
    "# sys.path is a list of absolute path strings\n",
    "sys.path.append('/opt/app-root/src/anz_ml_project/')\n",
    "import sys\n",
    "# sys.path is a list of absolute path strings\n",
    "sys.path.append('/opt/app-root/src/anz_ml_project/')\n",
    "\n",
    "from src.modules.build_model import BuildModel\n",
    "\n",
    "\n",
    "from klepto.archives import file_archive\n",
    "\n",
    "from minio import Minio\n",
    "import joblib"
   ]
  },
  {
   "cell_type": "code",
   "execution_count": null,
   "id": "99627a8d-52a8-4b73-841b-d581f505635b",
   "metadata": {},
   "outputs": [],
   "source": [
    "db1 = file_archive('variables-step2.pkl')\n",
    "db1.load()\n",
    "\n"
   ]
  },
  {
   "cell_type": "code",
   "execution_count": null,
   "id": "de28a810-4937-4f79-9bc2-e9d20733eed6",
   "metadata": {},
   "outputs": [],
   "source": [
    "model = BuildModel(WORD_INDEX=db1['word_index'], MAX_SEQUENCE_LENGTH=db1['MAX_SEQUENCE_LENGTH'] , EMWEIGHTS=[]).SetupModel()"
   ]
  },
  {
   "cell_type": "code",
   "execution_count": null,
   "id": "434d83ac-8506-401b-9666-d3827396f629",
   "metadata": {},
   "outputs": [],
   "source": [
    "model.save('model.h5')"
   ]
  },
  {
   "cell_type": "code",
   "execution_count": null,
   "id": "ef253e5c-10e5-4323-8da9-1e2b876ecb96",
   "metadata": {},
   "outputs": [],
   "source": []
  }
 ],
 "metadata": {
  "kernelspec": {
   "display_name": "Python 3.9 (XPython)",
   "language": "python",
   "name": "xpython"
  },
  "language_info": {
   "file_extension": ".py",
   "mimetype": "text/x-python",
   "name": "python",
   "version": "3.9.7"
  }
 },
 "nbformat": 4,
 "nbformat_minor": 5
}
