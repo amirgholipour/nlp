{
 "cells": [
  {
   "cell_type": "markdown",
   "id": "4870212e-8584-458a-8b68-6b7567dffd9d",
   "metadata": {},
   "source": [
    "# Install requirements"
   ]
  },
  {
   "cell_type": "code",
   "execution_count": 6,
   "id": "69b4a324",
   "metadata": {},
   "outputs": [
    {
     "name": "stdout",
     "output_type": "stream",
     "text": [
      "\u001b[33mWARNING: Ignoring invalid distribution -umpy (/opt/app-root/lib/python3.8/site-packages)\u001b[0m\n",
      "\u001b[33mWARNING: Ignoring invalid distribution - (/opt/app-root/lib/python3.8/site-packages)\u001b[0m\n",
      "\u001b[33mWARNING: Ignoring invalid distribution -umpy (/opt/app-root/lib/python3.8/site-packages)\u001b[0m\n",
      "\u001b[33mWARNING: Ignoring invalid distribution - (/opt/app-root/lib/python3.8/site-packages)\u001b[0m\n",
      "Collecting tensorflow_addons\n",
      "  Downloading tensorflow_addons-0.16.1-cp38-cp38-manylinux_2_12_x86_64.manylinux2010_x86_64.whl (1.1 MB)\n",
      "     |████████████████████████████████| 1.1 MB 18.4 MB/s            \n",
      "\u001b[?25hRequirement already satisfied: numpy in /opt/app-root/lib/python3.8/site-packages (1.22.0)\n",
      "Requirement already satisfied: pandas in /opt/app-root/lib/python3.8/site-packages (1.3.5)\n",
      "Collecting tensorflow\n",
      "  Downloading tensorflow-2.8.0-cp38-cp38-manylinux2010_x86_64.whl (497.6 MB)\n",
      "     |██████████████████████████████▌ | 474.8 MB 87.8 MB/s eta 0:00:01"
     ]
    },
    {
     "name": "stderr",
     "output_type": "stream",
     "text": [
      "IOPub data rate exceeded.\n",
      "The Jupyter server will temporarily stop sending output\n",
      "to the client in order to avoid crashing it.\n",
      "To change this limit, set the config variable\n",
      "`--ServerApp.iopub_data_rate_limit`.\n",
      "\n",
      "Current values:\n",
      "ServerApp.iopub_data_rate_limit=1000000.0 (bytes/sec)\n",
      "ServerApp.rate_limit_window=3.0 (secs)\n",
      "\n"
     ]
    },
    {
     "name": "stdout",
     "output_type": "stream",
     "text": [
      "Collecting sklearn\n",
      "  Downloading sklearn-0.0.tar.gz (1.1 kB)\n",
      "  Preparing metadata (setup.py) ... \u001b[?25ldone\n",
      "\u001b[?25hCollecting nltk\n",
      "  Downloading nltk-3.7-py3-none-any.whl (1.5 MB)\n",
      "     |████████████████████████████████| 1.5 MB 60.9 MB/s            \n",
      "\u001b[?25hCollecting spacy\n",
      "  Downloading spacy-3.2.4-cp38-cp38-manylinux_2_17_x86_64.manylinux2014_x86_64.whl (6.2 MB)\n",
      "     |████████████████████████████████| 6.2 MB 64.2 MB/s            \n",
      "\u001b[?25hCollecting textblob\n",
      "  Downloading textblob-0.17.1-py2.py3-none-any.whl (636 kB)\n",
      "     |████████████████████████████████| 636 kB 80.5 MB/s            \n",
      "\u001b[?25hCollecting gensim\n",
      "  Downloading gensim-4.1.2-cp38-cp38-manylinux_2_12_x86_64.manylinux2010_x86_64.whl (24.1 MB)\n",
      "     |████████████████████████████████| 24.1 MB 77.6 MB/s            \n",
      "\u001b[?25hRequirement already satisfied: scipy in /opt/app-root/lib/python3.8/site-packages (1.7.3)\n",
      "Collecting seaborn\n",
      "  Downloading seaborn-0.11.2-py3-none-any.whl (292 kB)\n",
      "     |████████████████████████████████| 292 kB 81.7 MB/s            \n",
      "\u001b[?25hRequirement already satisfied: matplotlib in /opt/app-root/lib/python3.8/site-packages (3.5.1)\n",
      "Requirement already satisfied: minio in /opt/app-root/lib/python3.8/site-packages (6.0.2)\n",
      "Requirement already satisfied: mlflow in /opt/app-root/lib/python3.8/site-packages (1.22.0)\n",
      "Collecting wordcloud\n",
      "  Downloading wordcloud-1.8.1-cp38-cp38-manylinux1_x86_64.whl (371 kB)\n",
      "     |████████████████████████████████| 371 kB 76.3 MB/s            \n",
      "\u001b[?25hRequirement already satisfied: boto3 in /opt/app-root/lib/python3.8/site-packages (1.18.46)\n",
      "Collecting typeguard>=2.7\n",
      "  Downloading typeguard-2.13.3-py3-none-any.whl (17 kB)\n",
      "Requirement already satisfied: python-dateutil>=2.7.3 in /opt/app-root/lib/python3.8/site-packages (from pandas) (2.8.2)\n",
      "Requirement already satisfied: pytz>=2017.3 in /opt/app-root/lib/python3.8/site-packages (from pandas) (2021.3)\n",
      "Collecting absl-py>=0.4.0\n",
      "  Downloading absl_py-1.0.0-py3-none-any.whl (126 kB)\n",
      "     |████████████████████████████████| 126 kB 78.6 MB/s            \n",
      "\u001b[?25hCollecting tensorflow-io-gcs-filesystem>=0.23.1\n",
      "  Downloading tensorflow_io_gcs_filesystem-0.25.0-cp38-cp38-manylinux_2_12_x86_64.manylinux2010_x86_64.whl (2.1 MB)\n",
      "     |████████████████████████████████| 2.1 MB 77.6 MB/s            \n",
      "\u001b[?25hCollecting keras<2.9,>=2.8.0rc0\n",
      "  Downloading keras-2.8.0-py2.py3-none-any.whl (1.4 MB)\n",
      "     |████████████████████████████████| 1.4 MB 80.4 MB/s            \n",
      "\u001b[?25hCollecting google-pasta>=0.1.1\n",
      "  Downloading google_pasta-0.2.0-py3-none-any.whl (57 kB)\n",
      "     |████████████████████████████████| 57 kB 62.2 MB/s            \n",
      "\u001b[?25hCollecting astunparse>=1.6.0\n",
      "  Downloading astunparse-1.6.3-py2.py3-none-any.whl (12 kB)\n",
      "Collecting tensorboard<2.9,>=2.8\n",
      "  Downloading tensorboard-2.8.0-py3-none-any.whl (5.8 MB)\n",
      "     |████████████████████████████████| 5.8 MB 73.1 MB/s            \n",
      "\u001b[?25hCollecting libclang>=9.0.1\n",
      "  Downloading libclang-13.0.0-py2.py3-none-manylinux1_x86_64.whl (14.5 MB)\n",
      "     |████████████████████████████████| 14.5 MB 69.1 MB/s            \n",
      "\u001b[?25hRequirement already satisfied: wrapt>=1.11.0 in /opt/app-root/lib/python3.8/site-packages (from tensorflow) (1.13.3)\n",
      "Requirement already satisfied: typing-extensions>=3.6.6 in /opt/app-root/lib/python3.8/site-packages (from tensorflow) (3.7.4.3)\n",
      "Collecting h5py>=2.9.0\n",
      "  Downloading h5py-3.6.0-cp38-cp38-manylinux_2_12_x86_64.manylinux2010_x86_64.whl (4.5 MB)\n",
      "     |████████████████████████████████| 4.5 MB 38.3 MB/s            \n",
      "\u001b[?25hCollecting grpcio<2.0,>=1.24.3\n",
      "  Downloading grpcio-1.44.0-cp38-cp38-manylinux_2_17_x86_64.manylinux2014_x86_64.whl (4.3 MB)\n",
      "     |████████████████████████████████| 4.3 MB 70.8 MB/s            \n",
      "\u001b[?25hRequirement already satisfied: protobuf>=3.9.2 in /opt/app-root/lib/python3.8/site-packages (from tensorflow) (3.19.1)\n",
      "Collecting tf-estimator-nightly==2.8.0.dev2021122109\n",
      "  Downloading tf_estimator_nightly-2.8.0.dev2021122109-py2.py3-none-any.whl (462 kB)\n",
      "     |████████████████████████████████| 462 kB 78.6 MB/s            \n",
      "\u001b[?25hCollecting gast>=0.2.1\n",
      "  Downloading gast-0.5.3-py3-none-any.whl (19 kB)\n",
      "Collecting flatbuffers>=1.12\n",
      "  Downloading flatbuffers-2.0-py2.py3-none-any.whl (26 kB)\n",
      "Requirement already satisfied: setuptools in /opt/app-root/lib/python3.8/site-packages (from tensorflow) (59.5.0)\n",
      "Requirement already satisfied: six>=1.12.0 in /opt/app-root/lib/python3.8/site-packages (from tensorflow) (1.15.0)\n",
      "Collecting keras-preprocessing>=1.1.1\n",
      "  Downloading Keras_Preprocessing-1.1.2-py2.py3-none-any.whl (42 kB)\n",
      "     |████████████████████████████████| 42 kB 35.5 MB/s            \n",
      "\u001b[?25hRequirement already satisfied: termcolor>=1.1.0 in /opt/app-root/lib/python3.8/site-packages (from tensorflow) (1.1.0)\n",
      "Collecting opt-einsum>=2.3.2\n",
      "  Downloading opt_einsum-3.3.0-py3-none-any.whl (65 kB)\n",
      "     |████████████████████████████████| 65 kB 27.2 MB/s            \n",
      "\u001b[?25hRequirement already satisfied: scikit-learn in /opt/app-root/lib/python3.8/site-packages (from sklearn) (1.0)\n",
      "Requirement already satisfied: tqdm in /opt/app-root/lib/python3.8/site-packages (from nltk) (4.62.3)\n",
      "Requirement already satisfied: regex>=2021.8.3 in /opt/app-root/lib/python3.8/site-packages (from nltk) (2021.11.10)\n",
      "Requirement already satisfied: click in /opt/app-root/lib/python3.8/site-packages (from nltk) (8.0.3)\n",
      "Requirement already satisfied: joblib in /opt/app-root/lib/python3.8/site-packages (from nltk) (1.1.0)\n",
      "Collecting pathy>=0.3.5\n",
      "  Downloading pathy-0.6.1-py3-none-any.whl (42 kB)\n",
      "     |████████████████████████████████| 42 kB 38.2 MB/s            \n",
      "\u001b[?25hCollecting catalogue<2.1.0,>=2.0.6\n",
      "  Downloading catalogue-2.0.7-py3-none-any.whl (17 kB)\n",
      "Collecting preshed<3.1.0,>=3.0.2\n",
      "  Downloading preshed-3.0.6-cp38-cp38-manylinux_2_5_x86_64.manylinux1_x86_64.manylinux_2_17_x86_64.manylinux2014_x86_64.whl (130 kB)\n",
      "     |████████████████████████████████| 130 kB 71.8 MB/s            \n",
      "\u001b[?25hCollecting wasabi<1.1.0,>=0.8.1\n",
      "  Downloading wasabi-0.9.1-py3-none-any.whl (26 kB)\n",
      "Collecting typer<0.5.0,>=0.3.0\n",
      "  Downloading typer-0.4.1-py3-none-any.whl (27 kB)\n",
      "Collecting pydantic!=1.8,!=1.8.1,<1.9.0,>=1.7.4\n",
      "  Downloading pydantic-1.8.2-cp38-cp38-manylinux2014_x86_64.whl (13.7 MB)\n",
      "     |████████████████████████████████| 13.7 MB 71.0 MB/s            \n",
      "\u001b[?25hCollecting spacy-legacy<3.1.0,>=3.0.8\n",
      "  Downloading spacy_legacy-3.0.9-py2.py3-none-any.whl (20 kB)\n",
      "Collecting thinc<8.1.0,>=8.0.12\n",
      "  Downloading thinc-8.0.15-cp38-cp38-manylinux_2_17_x86_64.manylinux2014_x86_64.whl (663 kB)\n",
      "     |████████████████████████████████| 663 kB 72.9 MB/s            \n",
      "\u001b[?25hCollecting langcodes<4.0.0,>=3.2.0\n",
      "  Downloading langcodes-3.3.0-py3-none-any.whl (181 kB)\n",
      "     |████████████████████████████████| 181 kB 75.8 MB/s            \n",
      "\u001b[?25hCollecting murmurhash<1.1.0,>=0.28.0\n",
      "  Downloading murmurhash-1.0.6-cp38-cp38-manylinux_2_5_x86_64.manylinux1_x86_64.manylinux_2_17_x86_64.manylinux2014_x86_64.whl (21 kB)\n",
      "Requirement already satisfied: packaging>=20.0 in /opt/app-root/lib/python3.8/site-packages (from spacy) (21.3)\n",
      "Collecting spacy-loggers<2.0.0,>=1.0.0\n",
      "  Downloading spacy_loggers-1.0.2-py3-none-any.whl (7.2 kB)\n",
      "Collecting blis<0.8.0,>=0.4.0\n",
      "  Downloading blis-0.7.7-cp38-cp38-manylinux_2_17_x86_64.manylinux2014_x86_64.whl (9.9 MB)\n",
      "     |████████████████████████████████| 9.9 MB 73.9 MB/s            \n",
      "\u001b[?25hRequirement already satisfied: jinja2 in /opt/app-root/lib/python3.8/site-packages (from spacy) (3.0.3)\n",
      "Requirement already satisfied: requests<3.0.0,>=2.13.0 in /opt/app-root/lib/python3.8/site-packages (from spacy) (2.26.0)\n",
      "Collecting cymem<2.1.0,>=2.0.2\n",
      "  Downloading cymem-2.0.6-cp38-cp38-manylinux_2_17_x86_64.manylinux2014_x86_64.whl (36 kB)\n",
      "Collecting srsly<3.0.0,>=2.4.1\n",
      "  Downloading srsly-2.4.3-cp38-cp38-manylinux_2_17_x86_64.manylinux2014_x86_64.whl (459 kB)\n",
      "     |████████████████████████████████| 459 kB 76.6 MB/s            \n",
      "\u001b[?25hCollecting smart-open>=1.8.1\n",
      "  Downloading smart_open-5.2.1-py3-none-any.whl (58 kB)\n",
      "     |████████████████████████████████| 58 kB 65.6 MB/s            \n",
      "\u001b[?25hRequirement already satisfied: pyparsing>=2.2.1 in /opt/app-root/lib/python3.8/site-packages (from matplotlib) (3.0.6)\n",
      "Requirement already satisfied: fonttools>=4.22.0 in /opt/app-root/lib/python3.8/site-packages (from matplotlib) (4.28.5)\n",
      "Requirement already satisfied: pillow>=6.2.0 in /opt/app-root/lib/python3.8/site-packages (from matplotlib) (9.0.0)\n",
      "Requirement already satisfied: kiwisolver>=1.0.1 in /opt/app-root/lib/python3.8/site-packages (from matplotlib) (1.3.2)\n",
      "Requirement already satisfied: cycler>=0.10 in /opt/app-root/lib/python3.8/site-packages (from matplotlib) (0.11.0)\n",
      "Requirement already satisfied: urllib3 in /opt/app-root/lib/python3.8/site-packages (from minio) (1.26.7)\n",
      "Requirement already satisfied: configparser in /opt/app-root/lib/python3.8/site-packages (from minio) (5.1.0)\n",
      "Requirement already satisfied: certifi in /opt/app-root/lib/python3.8/site-packages (from minio) (2021.10.8)\n",
      "Requirement already satisfied: prometheus-flask-exporter in /opt/app-root/lib/python3.8/site-packages (from mlflow) (0.18.7)\n",
      "Requirement already satisfied: cloudpickle in /opt/app-root/lib/python3.8/site-packages (from mlflow) (2.0.0)\n",
      "Requirement already satisfied: databricks-cli>=0.8.7 in /opt/app-root/lib/python3.8/site-packages (from mlflow) (0.16.2)\n",
      "Requirement already satisfied: importlib-metadata!=4.7.0,>=3.7.0 in /opt/app-root/lib/python3.8/site-packages (from mlflow) (4.8.2)\n",
      "Requirement already satisfied: pyyaml>=5.1 in /opt/app-root/lib/python3.8/site-packages (from mlflow) (5.4.1)\n",
      "Requirement already satisfied: gitpython>=2.1.0 in /opt/app-root/lib/python3.8/site-packages (from mlflow) (3.1.24)\n",
      "Requirement already satisfied: gunicorn in /opt/app-root/lib/python3.8/site-packages (from mlflow) (20.1.0)\n",
      "Requirement already satisfied: sqlalchemy in /opt/app-root/lib/python3.8/site-packages (from mlflow) (1.4.27)\n",
      "Requirement already satisfied: entrypoints in /opt/app-root/lib/python3.8/site-packages (from mlflow) (0.3)\n",
      "Requirement already satisfied: alembic<=1.4.1 in /opt/app-root/lib/python3.8/site-packages (from mlflow) (1.4.1)\n",
      "Requirement already satisfied: Flask in /opt/app-root/lib/python3.8/site-packages (from mlflow) (2.0.2)\n",
      "Requirement already satisfied: querystring-parser in /opt/app-root/lib/python3.8/site-packages (from mlflow) (1.2.4)\n",
      "Requirement already satisfied: sqlparse>=0.3.1 in /opt/app-root/lib/python3.8/site-packages (from mlflow) (0.4.2)\n",
      "Requirement already satisfied: docker>=4.0.0 in /opt/app-root/lib/python3.8/site-packages (from mlflow) (5.0.3)\n",
      "Requirement already satisfied: jmespath<1.0.0,>=0.7.1 in /opt/app-root/lib/python3.8/site-packages (from boto3) (0.10.0)\n",
      "Requirement already satisfied: s3transfer<0.6.0,>=0.5.0 in /opt/app-root/lib/python3.8/site-packages (from boto3) (0.5.0)\n",
      "Requirement already satisfied: botocore<1.22.0,>=1.21.46 in /opt/app-root/lib/python3.8/site-packages (from boto3) (1.21.65)\n",
      "Requirement already satisfied: python-editor>=0.3 in /opt/app-root/lib/python3.8/site-packages (from alembic<=1.4.1->mlflow) (1.0.4)\n",
      "Requirement already satisfied: Mako in /opt/app-root/lib/python3.8/site-packages (from alembic<=1.4.1->mlflow) (1.1.6)\n",
      "Requirement already satisfied: wheel<1.0,>=0.23.0 in /opt/app-root/lib/python3.8/site-packages (from astunparse>=1.6.0->tensorflow) (0.37.0)\n",
      "Requirement already satisfied: tabulate>=0.7.7 in /opt/app-root/lib/python3.8/site-packages (from databricks-cli>=0.8.7->mlflow) (0.8.9)\n",
      "Requirement already satisfied: websocket-client>=0.32.0 in /opt/app-root/lib/python3.8/site-packages (from docker>=4.0.0->mlflow) (1.2.1)\n",
      "Requirement already satisfied: gitdb<5,>=4.0.1 in /opt/app-root/lib/python3.8/site-packages (from gitpython>=2.1.0->mlflow) (4.0.9)\n",
      "Requirement already satisfied: zipp>=0.5 in /opt/app-root/lib/python3.8/site-packages (from importlib-metadata!=4.7.0,>=3.7.0->mlflow) (3.6.0)\n",
      "Requirement already satisfied: charset-normalizer~=2.0.0 in /opt/app-root/lib/python3.8/site-packages (from requests<3.0.0,>=2.13.0->spacy) (2.0.8)\n",
      "Requirement already satisfied: idna<4,>=2.5 in /opt/app-root/lib/python3.8/site-packages (from requests<3.0.0,>=2.13.0->spacy) (3.3)\n",
      "Requirement already satisfied: greenlet!=0.4.17 in /opt/app-root/lib/python3.8/site-packages (from sqlalchemy->mlflow) (1.1.2)\n",
      "Requirement already satisfied: werkzeug>=0.11.15 in /opt/app-root/lib/python3.8/site-packages (from tensorboard<2.9,>=2.8->tensorflow) (2.0.2)\n",
      "Collecting google-auth-oauthlib<0.5,>=0.4.1\n",
      "  Downloading google_auth_oauthlib-0.4.6-py2.py3-none-any.whl (18 kB)\n",
      "Requirement already satisfied: google-auth<3,>=1.6.3 in /opt/app-root/lib/python3.8/site-packages (from tensorboard<2.9,>=2.8->tensorflow) (2.3.3)\n",
      "Collecting markdown>=2.6.8\n",
      "  Downloading Markdown-3.3.6-py3-none-any.whl (97 kB)\n",
      "     |████████████████████████████████| 97 kB 67.4 MB/s            \n",
      "\u001b[?25hCollecting tensorboard-plugin-wit>=1.6.0\n",
      "  Downloading tensorboard_plugin_wit-1.8.1-py3-none-any.whl (781 kB)\n",
      "     |████████████████████████████████| 781 kB 73.9 MB/s            \n",
      "\u001b[?25hCollecting tensorboard-data-server<0.7.0,>=0.6.0\n",
      "  Downloading tensorboard_data_server-0.6.1-py3-none-manylinux2010_x86_64.whl (4.9 MB)\n",
      "     |████████████████████████████████| 4.9 MB 75.6 MB/s            \n",
      "\u001b[?25hRequirement already satisfied: itsdangerous>=2.0 in /opt/app-root/lib/python3.8/site-packages (from Flask->mlflow) (2.0.1)\n",
      "Requirement already satisfied: MarkupSafe>=2.0 in /opt/app-root/lib/python3.8/site-packages (from jinja2->spacy) (2.0.1)\n",
      "Requirement already satisfied: prometheus-client in /opt/app-root/lib/python3.8/site-packages (from prometheus-flask-exporter->mlflow) (0.12.0)\n",
      "Requirement already satisfied: threadpoolctl>=2.0.0 in /opt/app-root/lib/python3.8/site-packages (from scikit-learn->sklearn) (3.0.0)\n",
      "Requirement already satisfied: smmap<6,>=3.0.1 in /opt/app-root/lib/python3.8/site-packages (from gitdb<5,>=4.0.1->gitpython>=2.1.0->mlflow) (5.0.0)\n",
      "Requirement already satisfied: rsa<5,>=3.1.4 in /opt/app-root/lib/python3.8/site-packages (from google-auth<3,>=1.6.3->tensorboard<2.9,>=2.8->tensorflow) (4.8)\n",
      "Requirement already satisfied: cachetools<5.0,>=2.0.0 in /opt/app-root/lib/python3.8/site-packages (from google-auth<3,>=1.6.3->tensorboard<2.9,>=2.8->tensorflow) (4.2.4)\n",
      "Requirement already satisfied: pyasn1-modules>=0.2.1 in /opt/app-root/lib/python3.8/site-packages (from google-auth<3,>=1.6.3->tensorboard<2.9,>=2.8->tensorflow) (0.2.8)\n",
      "Requirement already satisfied: requests-oauthlib>=0.7.0 in /opt/app-root/lib/python3.8/site-packages (from google-auth-oauthlib<0.5,>=0.4.1->tensorboard<2.9,>=2.8->tensorflow) (1.3.0)\n",
      "Requirement already satisfied: pyasn1<0.5.0,>=0.4.6 in /opt/app-root/lib/python3.8/site-packages (from pyasn1-modules>=0.2.1->google-auth<3,>=1.6.3->tensorboard<2.9,>=2.8->tensorflow) (0.4.8)\n",
      "Requirement already satisfied: oauthlib>=3.0.0 in /opt/app-root/lib/python3.8/site-packages (from requests-oauthlib>=0.7.0->google-auth-oauthlib<0.5,>=0.4.1->tensorboard<2.9,>=2.8->tensorflow) (3.1.1)\n",
      "Building wheels for collected packages: sklearn\n",
      "  Building wheel for sklearn (setup.py) ... \u001b[?25ldone\n",
      "\u001b[?25h  Created wheel for sklearn: filename=sklearn-0.0-py2.py3-none-any.whl size=1309 sha256=03d77885c2908dd116a02813fa4d62cb77abcfe97f12d9cfc2233fbb02fecde4\n",
      "  Stored in directory: /tmp/pip-ephem-wheel-cache-g6m70owx/wheels/22/0b/40/fd3f795caaa1fb4c6cb738bc1f56100be1e57da95849bfc897\n",
      "Successfully built sklearn\n",
      "\u001b[33mWARNING: Ignoring invalid distribution -umpy (/opt/app-root/lib/python3.8/site-packages)\u001b[0m\n",
      "\u001b[33mWARNING: Ignoring invalid distribution - (/opt/app-root/lib/python3.8/site-packages)\u001b[0m\n",
      "Installing collected packages: murmurhash, cymem, catalogue, wasabi, typer, tensorboard-plugin-wit, tensorboard-data-server, srsly, smart-open, pydantic, preshed, markdown, grpcio, google-auth-oauthlib, blis, absl-py, typeguard, thinc, tf-estimator-nightly, tensorflow-io-gcs-filesystem, tensorboard, spacy-loggers, spacy-legacy, pathy, opt-einsum, nltk, libclang, langcodes, keras-preprocessing, keras, h5py, google-pasta, gast, flatbuffers, astunparse, wordcloud, textblob, tensorflow-addons, tensorflow, spacy, sklearn, seaborn, gensim\n",
      "\u001b[33mWARNING: Ignoring invalid distribution -umpy (/opt/app-root/lib/python3.8/site-packages)\u001b[0m\n",
      "\u001b[33mWARNING: Ignoring invalid distribution - (/opt/app-root/lib/python3.8/site-packages)\u001b[0m\n",
      "\u001b[33mWARNING: Ignoring invalid distribution -umpy (/opt/app-root/lib/python3.8/site-packages)\u001b[0m\n",
      "\u001b[33mWARNING: Ignoring invalid distribution - (/opt/app-root/lib/python3.8/site-packages)\u001b[0m\n",
      "\u001b[33mWARNING: Ignoring invalid distribution -umpy (/opt/app-root/lib/python3.8/site-packages)\u001b[0m\n",
      "\u001b[33mWARNING: Ignoring invalid distribution - (/opt/app-root/lib/python3.8/site-packages)\u001b[0m\n",
      "\u001b[33mWARNING: Ignoring invalid distribution -umpy (/opt/app-root/lib/python3.8/site-packages)\u001b[0m\n",
      "\u001b[33mWARNING: Ignoring invalid distribution - (/opt/app-root/lib/python3.8/site-packages)\u001b[0m\n",
      "\u001b[33mWARNING: Ignoring invalid distribution -umpy (/opt/app-root/lib/python3.8/site-packages)\u001b[0m\n",
      "\u001b[33mWARNING: Ignoring invalid distribution - (/opt/app-root/lib/python3.8/site-packages)\u001b[0m\n",
      "\u001b[33mWARNING: Ignoring invalid distribution -umpy (/opt/app-root/lib/python3.8/site-packages)\u001b[0m\n",
      "\u001b[33mWARNING: Ignoring invalid distribution - (/opt/app-root/lib/python3.8/site-packages)\u001b[0m\n",
      "\u001b[33mWARNING: Ignoring invalid distribution -umpy (/opt/app-root/lib/python3.8/site-packages)\u001b[0m\n",
      "\u001b[33mWARNING: Ignoring invalid distribution - (/opt/app-root/lib/python3.8/site-packages)\u001b[0m\n",
      "\u001b[33mWARNING: Ignoring invalid distribution -umpy (/opt/app-root/lib/python3.8/site-packages)\u001b[0m\n",
      "\u001b[33mWARNING: Ignoring invalid distribution - (/opt/app-root/lib/python3.8/site-packages)\u001b[0m\n",
      "\u001b[33mWARNING: Ignoring invalid distribution -umpy (/opt/app-root/lib/python3.8/site-packages)\u001b[0m\n",
      "\u001b[33mWARNING: Ignoring invalid distribution - (/opt/app-root/lib/python3.8/site-packages)\u001b[0m\n",
      "\u001b[33mWARNING: Ignoring invalid distribution -umpy (/opt/app-root/lib/python3.8/site-packages)\u001b[0m\n",
      "\u001b[33mWARNING: Ignoring invalid distribution - (/opt/app-root/lib/python3.8/site-packages)\u001b[0m\n",
      "\u001b[33mWARNING: Ignoring invalid distribution -umpy (/opt/app-root/lib/python3.8/site-packages)\u001b[0m\n",
      "\u001b[33mWARNING: Ignoring invalid distribution - (/opt/app-root/lib/python3.8/site-packages)\u001b[0m\n",
      "\u001b[33mWARNING: Ignoring invalid distribution -umpy (/opt/app-root/lib/python3.8/site-packages)\u001b[0m\n",
      "\u001b[33mWARNING: Ignoring invalid distribution - (/opt/app-root/lib/python3.8/site-packages)\u001b[0m\n",
      "\u001b[33mWARNING: Ignoring invalid distribution -umpy (/opt/app-root/lib/python3.8/site-packages)\u001b[0m\n",
      "\u001b[33mWARNING: Ignoring invalid distribution - (/opt/app-root/lib/python3.8/site-packages)\u001b[0m\n",
      "\u001b[33mWARNING: Ignoring invalid distribution -umpy (/opt/app-root/lib/python3.8/site-packages)\u001b[0m\n",
      "\u001b[33mWARNING: Ignoring invalid distribution - (/opt/app-root/lib/python3.8/site-packages)\u001b[0m\n",
      "\u001b[33mWARNING: Ignoring invalid distribution -umpy (/opt/app-root/lib/python3.8/site-packages)\u001b[0m\n",
      "\u001b[33mWARNING: Ignoring invalid distribution - (/opt/app-root/lib/python3.8/site-packages)\u001b[0m\n",
      "\u001b[33mWARNING: Ignoring invalid distribution -umpy (/opt/app-root/lib/python3.8/site-packages)\u001b[0m\n",
      "\u001b[33mWARNING: Ignoring invalid distribution - (/opt/app-root/lib/python3.8/site-packages)\u001b[0m\n",
      "\u001b[33mWARNING: Ignoring invalid distribution -umpy (/opt/app-root/lib/python3.8/site-packages)\u001b[0m\n",
      "\u001b[33mWARNING: Ignoring invalid distribution - (/opt/app-root/lib/python3.8/site-packages)\u001b[0m\n",
      "\u001b[33mWARNING: Ignoring invalid distribution -umpy (/opt/app-root/lib/python3.8/site-packages)\u001b[0m\n",
      "\u001b[33mWARNING: Ignoring invalid distribution - (/opt/app-root/lib/python3.8/site-packages)\u001b[0m\n",
      "\u001b[33mWARNING: Ignoring invalid distribution -umpy (/opt/app-root/lib/python3.8/site-packages)\u001b[0m\n",
      "\u001b[33mWARNING: Ignoring invalid distribution - (/opt/app-root/lib/python3.8/site-packages)\u001b[0m\n",
      "\u001b[33mWARNING: Ignoring invalid distribution -umpy (/opt/app-root/lib/python3.8/site-packages)\u001b[0m\n",
      "\u001b[33mWARNING: Ignoring invalid distribution - (/opt/app-root/lib/python3.8/site-packages)\u001b[0m\n",
      "\u001b[33mWARNING: Ignoring invalid distribution -umpy (/opt/app-root/lib/python3.8/site-packages)\u001b[0m\n",
      "\u001b[33mWARNING: Ignoring invalid distribution - (/opt/app-root/lib/python3.8/site-packages)\u001b[0m\n",
      "\u001b[33mWARNING: Ignoring invalid distribution -umpy (/opt/app-root/lib/python3.8/site-packages)\u001b[0m\n",
      "\u001b[33mWARNING: Ignoring invalid distribution - (/opt/app-root/lib/python3.8/site-packages)\u001b[0m\n",
      "\u001b[33mWARNING: Ignoring invalid distribution -umpy (/opt/app-root/lib/python3.8/site-packages)\u001b[0m\n",
      "\u001b[33mWARNING: Ignoring invalid distribution - (/opt/app-root/lib/python3.8/site-packages)\u001b[0m\n",
      "\u001b[33mWARNING: Ignoring invalid distribution -umpy (/opt/app-root/lib/python3.8/site-packages)\u001b[0m\n",
      "\u001b[33mWARNING: Ignoring invalid distribution - (/opt/app-root/lib/python3.8/site-packages)\u001b[0m\n",
      "\u001b[33mWARNING: Ignoring invalid distribution -umpy (/opt/app-root/lib/python3.8/site-packages)\u001b[0m\n",
      "\u001b[33mWARNING: Ignoring invalid distribution - (/opt/app-root/lib/python3.8/site-packages)\u001b[0m\n",
      "\u001b[33mWARNING: Ignoring invalid distribution -umpy (/opt/app-root/lib/python3.8/site-packages)\u001b[0m\n",
      "\u001b[33mWARNING: Ignoring invalid distribution - (/opt/app-root/lib/python3.8/site-packages)\u001b[0m\n",
      "\u001b[33mWARNING: Ignoring invalid distribution -umpy (/opt/app-root/lib/python3.8/site-packages)\u001b[0m\n",
      "\u001b[33mWARNING: Ignoring invalid distribution - (/opt/app-root/lib/python3.8/site-packages)\u001b[0m\n",
      "\u001b[33mWARNING: Ignoring invalid distribution -umpy (/opt/app-root/lib/python3.8/site-packages)\u001b[0m\n",
      "\u001b[33mWARNING: Ignoring invalid distribution - (/opt/app-root/lib/python3.8/site-packages)\u001b[0m\n",
      "\u001b[33mWARNING: Ignoring invalid distribution -umpy (/opt/app-root/lib/python3.8/site-packages)\u001b[0m\n",
      "\u001b[33mWARNING: Ignoring invalid distribution - (/opt/app-root/lib/python3.8/site-packages)\u001b[0m\n",
      "\u001b[33mWARNING: Ignoring invalid distribution -umpy (/opt/app-root/lib/python3.8/site-packages)\u001b[0m\n",
      "\u001b[33mWARNING: Ignoring invalid distribution - (/opt/app-root/lib/python3.8/site-packages)\u001b[0m\n",
      "\u001b[33mWARNING: Ignoring invalid distribution -umpy (/opt/app-root/lib/python3.8/site-packages)\u001b[0m\n",
      "\u001b[33mWARNING: Ignoring invalid distribution - (/opt/app-root/lib/python3.8/site-packages)\u001b[0m\n",
      "\u001b[33mWARNING: Ignoring invalid distribution -umpy (/opt/app-root/lib/python3.8/site-packages)\u001b[0m\n",
      "\u001b[33mWARNING: Ignoring invalid distribution - (/opt/app-root/lib/python3.8/site-packages)\u001b[0m\n",
      "\u001b[33mWARNING: Ignoring invalid distribution -umpy (/opt/app-root/lib/python3.8/site-packages)\u001b[0m\n",
      "\u001b[33mWARNING: Ignoring invalid distribution - (/opt/app-root/lib/python3.8/site-packages)\u001b[0m\n",
      "\u001b[33mWARNING: Ignoring invalid distribution -umpy (/opt/app-root/lib/python3.8/site-packages)\u001b[0m\n",
      "\u001b[33mWARNING: Ignoring invalid distribution - (/opt/app-root/lib/python3.8/site-packages)\u001b[0m\n",
      "\u001b[33mWARNING: Ignoring invalid distribution -umpy (/opt/app-root/lib/python3.8/site-packages)\u001b[0m\n",
      "\u001b[33mWARNING: Ignoring invalid distribution - (/opt/app-root/lib/python3.8/site-packages)\u001b[0m\n",
      "\u001b[33mWARNING: Ignoring invalid distribution -umpy (/opt/app-root/lib/python3.8/site-packages)\u001b[0m\n",
      "\u001b[33mWARNING: Ignoring invalid distribution - (/opt/app-root/lib/python3.8/site-packages)\u001b[0m\n",
      "\u001b[33mWARNING: Ignoring invalid distribution -umpy (/opt/app-root/lib/python3.8/site-packages)\u001b[0m\n",
      "\u001b[33mWARNING: Ignoring invalid distribution - (/opt/app-root/lib/python3.8/site-packages)\u001b[0m\n",
      "\u001b[33mWARNING: Ignoring invalid distribution -umpy (/opt/app-root/lib/python3.8/site-packages)\u001b[0m\n",
      "\u001b[33mWARNING: Ignoring invalid distribution - (/opt/app-root/lib/python3.8/site-packages)\u001b[0m\n",
      "\u001b[33mWARNING: Ignoring invalid distribution -umpy (/opt/app-root/lib/python3.8/site-packages)\u001b[0m\n",
      "\u001b[33mWARNING: Ignoring invalid distribution - (/opt/app-root/lib/python3.8/site-packages)\u001b[0m\n",
      "\u001b[33mWARNING: Ignoring invalid distribution -umpy (/opt/app-root/lib/python3.8/site-packages)\u001b[0m\n",
      "\u001b[33mWARNING: Ignoring invalid distribution - (/opt/app-root/lib/python3.8/site-packages)\u001b[0m\n",
      "\u001b[33mWARNING: Ignoring invalid distribution -umpy (/opt/app-root/lib/python3.8/site-packages)\u001b[0m\n",
      "\u001b[33mWARNING: Ignoring invalid distribution - (/opt/app-root/lib/python3.8/site-packages)\u001b[0m\n",
      "\u001b[33mWARNING: Ignoring invalid distribution -umpy (/opt/app-root/lib/python3.8/site-packages)\u001b[0m\n",
      "\u001b[33mWARNING: Ignoring invalid distribution - (/opt/app-root/lib/python3.8/site-packages)\u001b[0m\n",
      "\u001b[33mWARNING: Ignoring invalid distribution -umpy (/opt/app-root/lib/python3.8/site-packages)\u001b[0m\n",
      "\u001b[33mWARNING: Ignoring invalid distribution - (/opt/app-root/lib/python3.8/site-packages)\u001b[0m\n",
      "Successfully installed absl-py-1.0.0 astunparse-1.6.3 blis-0.7.7 catalogue-2.0.7 cymem-2.0.6 flatbuffers-2.0 gast-0.5.3 gensim-4.1.2 google-auth-oauthlib-0.4.6 google-pasta-0.2.0 grpcio-1.44.0 h5py-3.6.0 keras-2.8.0 keras-preprocessing-1.1.2 langcodes-3.3.0 libclang-13.0.0 markdown-3.3.6 murmurhash-1.0.6 nltk-3.7 opt-einsum-3.3.0 pathy-0.6.1 preshed-3.0.6 pydantic-1.8.2 seaborn-0.11.2 sklearn-0.0 smart-open-5.2.1 spacy-3.2.4 spacy-legacy-3.0.9 spacy-loggers-1.0.2 srsly-2.4.3 tensorboard-2.8.0 tensorboard-data-server-0.6.1 tensorboard-plugin-wit-1.8.1 tensorflow-2.8.0 tensorflow-addons-0.16.1 tensorflow-io-gcs-filesystem-0.25.0 textblob-0.17.1 tf-estimator-nightly-2.8.0.dev2021122109 thinc-8.0.15 typeguard-2.13.3 typer-0.4.1 wasabi-0.9.1 wordcloud-1.8.1\n",
      "\u001b[33mWARNING: Ignoring invalid distribution -umpy (/opt/app-root/lib/python3.8/site-packages)\u001b[0m\n",
      "\u001b[33mWARNING: Ignoring invalid distribution - (/opt/app-root/lib/python3.8/site-packages)\u001b[0m\n",
      "\u001b[33mWARNING: Ignoring invalid distribution -umpy (/opt/app-root/lib/python3.8/site-packages)\u001b[0m\n",
      "\u001b[33mWARNING: Ignoring invalid distribution - (/opt/app-root/lib/python3.8/site-packages)\u001b[0m\n",
      "\u001b[33mWARNING: Ignoring invalid distribution -umpy (/opt/app-root/lib/python3.8/site-packages)\u001b[0m\n",
      "\u001b[33mWARNING: Ignoring invalid distribution - (/opt/app-root/lib/python3.8/site-packages)\u001b[0m\n",
      "\u001b[33mWARNING: You are using pip version 21.3.1; however, version 22.0.4 is available.\n",
      "You should consider upgrading via the '/opt/app-root/bin/python3.8 -m pip install --upgrade pip' command.\u001b[0m\n",
      "Note: you may need to restart the kernel to use updated packages.\n"
     ]
    }
   ],
   "source": [
    "%pip install tensorflow_addons numpy pandas tensorflow sklearn nltk spacy textblob gensim scipy seaborn matplotlib minio mlflow wordcloud boto3"
   ]
  },
  {
   "cell_type": "code",
   "execution_count": 7,
   "id": "8e8d1d55-f228-462c-ac0f-dafc2e03bfb3",
   "metadata": {},
   "outputs": [
    {
     "name": "stderr",
     "output_type": "stream",
     "text": [
      "2022-04-22 03:51:20.691812: W tensorflow/stream_executor/platform/default/dso_loader.cc:64] Could not load dynamic library 'libcudart.so.11.0'; dlerror: libcudart.so.11.0: cannot open shared object file: No such file or directory\n",
      "2022-04-22 03:51:20.691869: I tensorflow/stream_executor/cuda/cudart_stub.cc:29] Ignore above cudart dlerror if you do not have a GPU set up on your machine.\n",
      "/opt/app-root/lib64/python3.8/site-packages/pkg_resources/__init__.py:116: PkgResourcesDeprecationWarning: mpy is an invalid version and will not be supported in a future release\n",
      "  warnings.warn(\n"
     ]
    }
   ],
   "source": [
    "import os\n",
    "cwd = os.getcwd()\n",
    "import sys\n",
    "# sys.path is a list of absolute path strings\n",
    "sys.path.append('/opt/app-root/src/anz_ml_project/')\n",
    "from src.loadingdata.read_dataset import ReadData\n",
    "from src.features.build_features import BuildFeatures\n",
    "from src.modules.build_model import BuildModel\n",
    "from src.modules.train_model import MLflow, TrainModel\n",
    "from src.modules.predict_model import Predictor,Transformer,DownloadArtifact\n",
    "\n",
    "\n",
    "import numpy as np\n",
    "import pandas as pd\n",
    "import tensorflow as tf\n",
    "import tensorflow_addons as tfa\n",
    "from sklearn.feature_extraction.text import TfidfVectorizer\n",
    "import sklearn.feature_extraction.text as text\n",
    "from sklearn import model_selection, preprocessing, linear_model, naive_bayes, metrics, svm\n",
    "# from sklearn.naive_bayes import MultinomialNB\n",
    "# from sklearn.linear_model import LogisticRegression\n",
    "# from sklearn.ensemble import RandomForestClassifier\n",
    "# from sklearn.svm import LinearSVC\n",
    "from sklearn.model_selection import cross_val_score\n",
    "from sklearn.model_selection import train_test_split\n",
    "from sklearn.metrics import classification_report\n",
    "\n",
    "from textblob import TextBlob\n",
    "from nltk.stem import PorterStemmer,SnowballStemmer\n",
    "from textblob import Word\n",
    "from sklearn.feature_extraction.text import CountVectorizer,TfidfVectorizer\n",
    "from nltk.corpus import stopwords\n",
    "from nltk.tokenize import sent_tokenize, word_tokenize\n",
    "from nltk.tokenize.toktok import ToktokTokenizer\n",
    "# from wordcloud import WordCloudfrom wordcloud import WordCloud\n",
    "from io import StringIO\n",
    "import string\n",
    "import gensim\n",
    "from gensim.models import Word2Vec\n",
    "import itertools\n",
    "import scipy\n",
    "from scipy import spatial\n",
    "import seaborn as sns\n",
    "import matplotlib.pyplot as plt\n",
    "import re\n",
    "import nltk\n",
    "import joblib\n",
    "\n",
    "import mlflow\n",
    "import warnings\n",
    "\n",
    "from minio import Minio\n",
    "import subprocess\n",
    "import ipynbname\n",
    "warnings.filterwarnings(\"ignore\")\n",
    "import absl.logging\n",
    "absl.logging.set_verbosity(absl.logging.ERROR)\n",
    "\n",
    "\n",
    "tokenizer = ToktokTokenizer()"
   ]
  },
  {
   "cell_type": "markdown",
   "id": "070e4ed1-1cad-4341-81d7-fa8780fc89b6",
   "metadata": {
    "tags": []
   },
   "source": [
    "# Initialize the config file for mlflow and Minio"
   ]
  },
  {
   "cell_type": "code",
   "execution_count": 8,
   "id": "6e397a69",
   "metadata": {},
   "outputs": [],
   "source": [
    "\n",
    "HOST = \"http://mlflow:5500\"\n",
    "\n",
    "PROJECT_NAME = \"NlpTc\"\n",
    "EXPERIMENT_NAME = \"NlpLstm\"\n",
    "\n",
    "os.environ['MLFLOW_S3_ENDPOINT_URL']='http://minio-ml-workshop:9000'\n",
    "os.environ['AWS_ACCESS_KEY_ID']='minio'\n",
    "os.environ['AWS_SECRET_ACCESS_KEY']='minio123'\n",
    "os.environ['AWS_REGION']='us-east-1'\n",
    "os.environ['AWS_BUCKET_NAME']='raw-data-saeed'\n"
   ]
  },
  {
   "cell_type": "markdown",
   "id": "172f2529-55bb-4a9d-acef-3358eb9b6c1a",
   "metadata": {},
   "source": [
    "\n",
    "## Define a Function to read from Minio S3 Bucket"
   ]
  },
  {
   "cell_type": "code",
   "execution_count": 11,
   "id": "e2201c73-0605-41b1-8f4b-924aae88fd44",
   "metadata": {},
   "outputs": [],
   "source": [
    "def get_s3_server():\n",
    "    minioClient = Minio('minio-ml-workshop:9000',\n",
    "                    access_key='minio',\n",
    "                    secret_key='minio123',\n",
    "                    secure=False)\n",
    "\n",
    "    return minioClient\n",
    "client = get_s3_server()"
   ]
  },
  {
   "cell_type": "markdown",
   "id": "af49b7ed-6635-42d8-8981-05ec30a53d0a",
   "metadata": {},
   "source": [
    "## SetUp MLFlow to track the model"
   ]
  },
  {
   "cell_type": "code",
   "execution_count": 12,
   "id": "aac4f368-4c1d-4743-9dc2-6ca200f8bd09",
   "metadata": {},
   "outputs": [
    {
     "name": "stderr",
     "output_type": "stream",
     "text": [
      "2022/04/22 03:51:47 WARNING mlflow.utils.autologging_utils: You are using an unsupported version of tensorflow. If you encounter errors during autologging, try upgrading / downgrading tensorflow to a supported version, or try upgrading MLflow.\n"
     ]
    }
   ],
   "source": [
    "mlflow = MLflow(mlflow, HOST,EXPERIMENT_NAME).SetUp_Mlflow()"
   ]
  },
  {
   "cell_type": "markdown",
   "id": "1aabb275",
   "metadata": {},
   "source": [
    "# Readinng the data\n"
   ]
  },
  {
   "cell_type": "code",
   "execution_count": 13,
   "id": "1c8f24db-e2bb-4dff-ba49-aa89fda5098c",
   "metadata": {},
   "outputs": [
    {
     "name": "stdout",
     "output_type": "stream",
     "text": [
      "['Bank account or service' 'Consumer Loan' 'Credit card'\n",
      " 'Credit reporting' 'Debt collection' 'Money transfers' 'Mortgage'\n",
      " 'Other financial service' 'Payday loan' 'Prepaid card' 'Student loan']\n",
      "(array([ 0,  1,  2,  3,  4,  5,  6,  7,  8,  9, 10]), array([119,  90, 184, 242, 436,  22, 400,   2,  26,  10,  69]))\n",
      "(array([ 0,  1,  2,  3,  4,  5,  6,  7,  8,  9, 10]), array([ 30,  22,  46,  61, 109,   5, 100,   1,   7,   2,  17]))\n"
     ]
    }
   ],
   "source": [
    "train_data, test_data, train_labels, test_labels,enc = ReadData(S3BucketName = \"raw-data-saeed\",FILE_NAME=\"data.csv\").ReadDataFrameData()"
   ]
  },
  {
   "cell_type": "code",
   "execution_count": 14,
   "id": "2c06c482-66d6-4ee3-9741-461ce26560d0",
   "metadata": {},
   "outputs": [
    {
     "data": {
      "text/plain": [
       "['labelencoder.pkl']"
      ]
     },
     "execution_count": 14,
     "metadata": {},
     "output_type": "execute_result"
    }
   ],
   "source": [
    "joblib.dump(enc, 'labelencoder.pkl')  "
   ]
  },
  {
   "cell_type": "code",
   "execution_count": 15,
   "id": "409a6120-e387-4d17-aa38-7768f7c279b0",
   "metadata": {},
   "outputs": [
    {
     "data": {
      "text/plain": [
       "(400,)"
      ]
     },
     "execution_count": 15,
     "metadata": {},
     "output_type": "execute_result"
    }
   ],
   "source": [
    "# from src.features.build_features import BuildFeatures\n",
    "train_data.shape\n",
    "\n",
    "test_labels.shape\n"
   ]
  },
  {
   "cell_type": "markdown",
   "id": "b4f116d8-378f-42ba-ae65-f6bda55a4e63",
   "metadata": {},
   "source": [
    "# Prepare data for modeling"
   ]
  },
  {
   "cell_type": "code",
   "execution_count": 16,
   "id": "e347a28f-63d6-4aa1-aa8e-7f24b2ce0650",
   "metadata": {},
   "outputs": [],
   "source": [
    "BFCLASS = BuildFeatures(TRAIN_DATA=train_data,TEST_DATA=test_data,TRAIN_LABELS=train_labels,TEST_LABELS=test_labels, GloveData=\"glove.6B.50d.txt\",EMBEDDING_DIM=50, WEIGHT_FLAG = False,MLFLOW_S3_ENDPOINT_URL = \"minio-ml-workshop:9000\",AWS_ACCESS_KEY_ID='minio',AWS_SECRET_ACCESS_KEY = 'minio123',SECURE = False)"
   ]
  },
  {
   "cell_type": "code",
   "execution_count": 17,
   "id": "9c1e5e30-daed-4acd-8da9-028c765b79ec",
   "metadata": {},
   "outputs": [
    {
     "name": "stdout",
     "output_type": "stream",
     "text": [
      "Maximum Sequence length is 348 .\n",
      "Found 7323 unique tokens.\n",
      "Shape of train data tensor: (1600, 348)\n",
      "Shape of train label tensor: (1600, 11)\n",
      "Shape of test label tensor: (400, 11)\n"
     ]
    }
   ],
   "source": [
    "train_data,test_data,train_labels , test_labels,word_index,tokenizer,MAX_SEQUENCE_LENGTH = BFCLASS.PreProcessingTextData()"
   ]
  },
  {
   "cell_type": "code",
   "execution_count": 18,
   "id": "22b3687a-45fe-48de-bf47-59e1a7f9e9c7",
   "metadata": {},
   "outputs": [
    {
     "data": {
      "text/plain": [
       "['tokenizer.pkl']"
      ]
     },
     "execution_count": 18,
     "metadata": {},
     "output_type": "execute_result"
    }
   ],
   "source": [
    "joblib.dump(tokenizer, 'tokenizer.pkl')  "
   ]
  },
  {
   "cell_type": "markdown",
   "id": "f577c518",
   "metadata": {
    "pycharm": {
     "name": "#%% md\n"
    }
   },
   "source": [
    "# Deep Learning define, train and test model\n"
   ]
  },
  {
   "cell_type": "markdown",
   "id": "752ffe69-6213-4614-aa12-32b1cbdfd885",
   "metadata": {},
   "source": [
    "## Define the Model"
   ]
  },
  {
   "cell_type": "code",
   "execution_count": 19,
   "id": "b740adae-5c4f-4d0c-90ef-b8cfb9da8720",
   "metadata": {},
   "outputs": [
    {
     "name": "stderr",
     "output_type": "stream",
     "text": [
      "2022-04-22 03:52:02.070938: W tensorflow/stream_executor/platform/default/dso_loader.cc:64] Could not load dynamic library 'libcuda.so.1'; dlerror: libcuda.so.1: cannot open shared object file: No such file or directory\n",
      "2022-04-22 03:52:02.071006: W tensorflow/stream_executor/cuda/cuda_driver.cc:269] failed call to cuInit: UNKNOWN ERROR (303)\n",
      "2022-04-22 03:52:02.071067: I tensorflow/stream_executor/cuda/cuda_diagnostics.cc:156] kernel driver does not appear to be running on this host (jupyterhub-nb-opentlc-2dmgr): /proc/driver/nvidia/version does not exist\n",
      "2022-04-22 03:52:02.071416: I tensorflow/core/platform/cpu_feature_guard.cc:151] This TensorFlow binary is optimized with oneAPI Deep Neural Network Library (oneDNN) to use the following CPU instructions in performance-critical operations:  AVX2 FMA\n",
      "To enable them in other operations, rebuild TensorFlow with the appropriate compiler flags.\n"
     ]
    },
    {
     "name": "stdout",
     "output_type": "stream",
     "text": [
      "Model: \"sequential\"\n",
      "_________________________________________________________________\n",
      " Layer (type)                Output Shape              Param #   \n",
      "=================================================================\n",
      " embedding (Embedding)       (None, 348, 50)           366200    \n",
      "                                                                 \n",
      " bidirectional (Bidirectiona  (None, 348, 200)         120800    \n",
      " l)                                                              \n",
      "                                                                 \n",
      " bidirectional_1 (Bidirectio  (None, 512)              935936    \n",
      " nal)                                                            \n",
      "                                                                 \n",
      " dense (Dense)               (None, 11)                5643      \n",
      "                                                                 \n",
      "=================================================================\n",
      "Total params: 1,428,579\n",
      "Trainable params: 1,428,579\n",
      "Non-trainable params: 0\n",
      "_________________________________________________________________\n"
     ]
    }
   ],
   "source": [
    "model = BuildModel(WORD_INDEX=word_index, MAX_SEQUENCE_LENGTH=MAX_SEQUENCE_LENGTH, EMWEIGHTS=[]).SetupModel()"
   ]
  },
  {
   "cell_type": "markdown",
   "id": "5c37d919-de54-4565-a4b6-74a58e4f1329",
   "metadata": {},
   "source": [
    "## Train the Model"
   ]
  },
  {
   "cell_type": "code",
   "execution_count": 20,
   "id": "df9aca2b-be70-4ca2-b89d-c33df03f2d3c",
   "metadata": {},
   "outputs": [
    {
     "name": "stderr",
     "output_type": "stream",
     "text": [
      "2022/04/22 03:52:05 WARNING mlflow.utils.autologging_utils: You are using an unsupported version of tensorflow. If you encounter errors during autologging, try upgrading / downgrading tensorflow to a supported version, or try upgrading MLflow.\n"
     ]
    },
    {
     "name": "stdout",
     "output_type": "stream",
     "text": [
      "Epoch 1/10\n",
      "25/25 [==============================] - 165s 6s/step - loss: 1.9258 - acc: 0.3363 - val_loss: 1.5917 - val_acc: 0.4650\n",
      "Epoch 2/10\n",
      "25/25 [==============================] - 158s 6s/step - loss: 1.4165 - acc: 0.5069 - val_loss: 1.5665 - val_acc: 0.4850\n",
      "Epoch 3/10\n",
      "25/25 [==============================] - 161s 6s/step - loss: 1.2015 - acc: 0.5587 - val_loss: 1.2582 - val_acc: 0.5550\n",
      "Epoch 4/10\n",
      "25/25 [==============================] - 158s 6s/step - loss: 0.9883 - acc: 0.6438 - val_loss: 1.1457 - val_acc: 0.6450\n",
      "Epoch 5/10\n",
      "25/25 [==============================] - 156s 6s/step - loss: 0.8024 - acc: 0.7287 - val_loss: 1.2449 - val_acc: 0.6125\n",
      "Epoch 6/10\n",
      "25/25 [==============================] - 157s 6s/step - loss: 0.6963 - acc: 0.7831 - val_loss: 1.2268 - val_acc: 0.6200\n",
      "Epoch 7/10\n",
      "25/25 [==============================] - 157s 6s/step - loss: 0.5553 - acc: 0.8244 - val_loss: 1.2088 - val_acc: 0.6525\n",
      "Epoch 8/10\n",
      "25/25 [==============================] - 157s 6s/step - loss: 0.4779 - acc: 0.8531 - val_loss: 1.1876 - val_acc: 0.6425\n",
      "Epoch 9/10\n",
      "25/25 [==============================] - 157s 6s/step - loss: 0.3696 - acc: 0.8844 - val_loss: 1.2687 - val_acc: 0.6675\n",
      "Epoch 10/10\n",
      "25/25 [==============================] - 157s 6s/step - loss: 0.3338 - acc: 0.8988 - val_loss: 1.2732 - val_acc: 0.6650\n"
     ]
    },
    {
     "name": "stderr",
     "output_type": "stream",
     "text": [
      "2022-04-22 04:18:37.605619: W tensorflow/python/util/util.cc:368] Sets are not currently considered sequences, but this may change in the future, so consider avoiding using them.\n"
     ]
    },
    {
     "name": "stdout",
     "output_type": "stream",
     "text": [
      "INFO:tensorflow:Assets written to: /tmp/tmphch3nru6/model/data/model/assets\n"
     ]
    },
    {
     "name": "stderr",
     "output_type": "stream",
     "text": [
      "INFO:tensorflow:Assets written to: /tmp/tmphch3nru6/model/data/model/assets\n",
      "WARNING: Ignoring invalid distribution -umpy (/opt/app-root/lib/python3.8/site-packages)\n",
      "WARNING: Ignoring invalid distribution - (/opt/app-root/lib/python3.8/site-packages)\n"
     ]
    }
   ],
   "source": [
    "model, history= TrainModel(model, tokenizer, enc,train_data, train_labels,test_data, test_labels,HOST, EXPERIMENT_NAME, BATCH_SIZE=64,EPOCHS=5).ModelTraining()"
   ]
  },
  {
   "cell_type": "markdown",
   "id": "08d0644c-f188-43c9-a17c-c327145a641e",
   "metadata": {},
   "source": [
    "### Plot the training and testing Loss"
   ]
  },
  {
   "cell_type": "code",
   "execution_count": 21,
   "id": "d9428b35",
   "metadata": {},
   "outputs": [
    {
     "data": {
      "image/png": "[encoded data removed]",
      "text/plain": [
       "<Figure size 432x288 with 1 Axes>"
      ]
     },
     "metadata": {
      "needs_background": "light"
     },
     "output_type": "display_data"
    }
   ],
   "source": [
    "fig1 = plt.figure()\n",
    "plt.plot(history.history['loss'],'r',linewidth=3.0)\n",
    "plt.plot(history.history['val_loss'],'b',linewidth=3.0)\n",
    "plt.legend(['Training loss', 'Validation Loss'],fontsize=18)\n",
    "plt.xlabel('Epochs ',fontsize=16)\n",
    "plt.ylabel('Loss',fontsize=16)\n",
    "plt.title('Loss Curves :RNN - LSTM',fontsize=16)\n",
    "plt.show()"
   ]
  },
  {
   "cell_type": "markdown",
   "id": "4f7712ce-2e36-476e-80fa-68b568cb52f5",
   "metadata": {},
   "source": [
    "#### Plot the training and testing Accuracy"
   ]
  },
  {
   "cell_type": "code",
   "execution_count": 22,
   "id": "1d876903",
   "metadata": {},
   "outputs": [
    {
     "data": {
      "image/png": "[encoded data removed]",
      "text/plain": [
       "<Figure size 432x288 with 1 Axes>"
      ]
     },
     "metadata": {
      "needs_background": "light"
     },
     "output_type": "display_data"
    }
   ],
   "source": [
    "fig1 = plt.figure()\n",
    "plt.plot(history.history['acc'],'r',linewidth=3.0)\n",
    "plt.plot(history.history['val_acc'],'b',linewidth=3.0)\n",
    "plt.legend(['Training acc', 'Validation acc'],fontsize=18)\n",
    "plt.xlabel('Epochs ',fontsize=16)\n",
    "plt.ylabel('Accuracy',fontsize=16)\n",
    "plt.title('Accuracy Curves :RNN - LSTM',fontsize=16)\n",
    "plt.show()"
   ]
  },
  {
   "cell_type": "markdown",
   "id": "2e411f40-3785-486c-8db3-0db25e85f9a9",
   "metadata": {},
   "source": [
    "## Test the model"
   ]
  },
  {
   "cell_type": "code",
   "execution_count": 23,
   "id": "e61836da",
   "metadata": {},
   "outputs": [
    {
     "data": {
      "text/plain": [
       "array([[0.99230075, 0.34537172, 0.74973387, ..., 0.5586934 , 0.83490014,\n",
       "        0.13525936],\n",
       "       [0.9989822 , 0.21833342, 0.69027483, ..., 0.54839647, 0.79493797,\n",
       "        0.06179613],\n",
       "       [0.08115679, 0.16184646, 0.54246247, ..., 0.23388699, 0.07102525,\n",
       "        0.27580118],\n",
       "       ...,\n",
       "       [0.28298587, 0.39163995, 0.9613056 , ..., 0.23061642, 0.34438288,\n",
       "        0.1202862 ],\n",
       "       [0.10754704, 0.30191815, 0.742745  , ..., 0.35292274, 0.1137642 ,\n",
       "        0.22756949],\n",
       "       [0.791931  , 0.46115464, 0.11641014, ..., 0.46091828, 0.0373244 ,\n",
       "        0.5276645 ]], dtype=float32)"
      ]
     },
     "execution_count": 23,
     "metadata": {},
     "output_type": "execute_result"
    }
   ],
   "source": [
    "#predictions on test data\n",
    "predicted=model.predict(test_data)\n",
    "predicted"
   ]
  },
  {
   "cell_type": "code",
   "execution_count": 24,
   "id": "89568132",
   "metadata": {},
   "outputs": [
    {
     "name": "stdout",
     "output_type": "stream",
     "text": [
      "precision: \n",
      "[0.14705882 0.09782609 0.26162791 0.31395349 0.52356021 0.05952381\n",
      " 0.64788732 0.         0.04705882 0.01204819 0.09333333]\n",
      "recall: \n",
      "[0.83333333 0.81818182 0.97826087 0.8852459  0.91743119 1.\n",
      " 0.92       0.         0.57142857 0.5        0.82352941]\n",
      "fscore: \n",
      "[0.25       0.17475728 0.41284404 0.46351931 0.66666667 0.11235955\n",
      " 0.76033058 0.         0.08695652 0.02352941 0.16766467]\n",
      "support: \n",
      "[ 30  22  46  61 109   5 100   1   7   2  17]\n",
      "############################\n"
     ]
    }
   ],
   "source": [
    "#model evaluation\n",
    "import sklearn\n",
    "from sklearn.metrics import precision_recall_fscore_support as score\n",
    "precision, recall, fscore, support = score(test_labels, predicted.round())\n",
    "print('precision: \\n{}'.format(precision))\n",
    "print('recall: \\n{}'.format(recall))\n",
    "print('fscore: \\n{}'.format(fscore))\n",
    "print('support: \\n{}'.format(support))\n",
    "print(\"############################\")"
   ]
  },
  {
   "cell_type": "code",
   "execution_count": 25,
   "id": "4a35fdb6-cc8c-42ca-a15d-6815de5f7538",
   "metadata": {},
   "outputs": [
    {
     "data": {
      "image/png": "[encoded data removed]",
      "text/plain": [
       "<Figure size 576x432 with 2 Axes>"
      ]
     },
     "metadata": {
      "needs_background": "light"
     },
     "output_type": "display_data"
    }
   ],
   "source": [
    "from sklearn.metrics import confusion_matrix\n",
    "\n",
    "conf_mat = confusion_matrix(test_labels.argmax(axis=1), predicted.argmax(axis=1))\n",
    "fig, ax = plt.subplots(figsize=(8,6))\n",
    "sns.heatmap(conf_mat, annot=True, fmt=\"d\", cmap=\"BuPu\",xticklabels=enc.classes_,yticklabels=enc.classes_)\n",
    "plt.ylabel('Actual')\n",
    "plt.xlabel('Predicted')\n",
    "plt.show()"
   ]
  }
 ],
 "metadata": {
  "interpreter": {
   "hash": "10d220c55dad87bc296f91a276cffc08c658df4f112171a2982baf6251a25e4e"
  },
  "kernelspec": {
   "display_name": "Python 3 (ipykernel)",
   "language": "python",
   "name": "python3"
  },
  "language_info": {
   "codemirror_mode": {
    "name": "ipython",
    "version": 3
   },
   "file_extension": ".py",
   "mimetype": "text/x-python",
   "name": "python",
   "nbconvert_exporter": "python",
   "pygments_lexer": "ipython3",
   "version": "3.8.8"
  }
 },
 "nbformat": 4,
 "nbformat_minor": 5
}
